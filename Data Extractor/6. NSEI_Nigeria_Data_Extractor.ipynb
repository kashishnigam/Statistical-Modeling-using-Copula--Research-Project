{
 "cells": [
  {
   "cell_type": "code",
   "execution_count": 1,
   "id": "ce2fb55c",
   "metadata": {},
   "outputs": [
    {
     "name": "stderr",
     "output_type": "stream",
     "text": [
      "[*********************100%%**********************]  1 of 1 completed\n",
      "\n",
      "1 Failed download:\n",
      "['^JALSH']: Exception('%ticker%: No price data found, symbol may be delisted (1d 2015-01-01 -> 2024-04-01)')\n"
     ]
    },
    {
     "name": "stdout",
     "output_type": "stream",
     "text": [
      "FTSE/JSE All Share Index data has been saved to jse_data.xlsx\n"
     ]
    }
   ],
   "source": [
    "# import yfinance as yf\n",
    "\n",
    "# # Define the ticker symbol for the FTSE/JSE All Share Index\n",
    "# ticker_symbol = \"^JALSH\"\n",
    "\n",
    "# # Define the start and end dates\n",
    "# start_date = \"2015-01-01\"\n",
    "# end_date = \"2024-04-01\"\n",
    "\n",
    "# # Fetch historical data for the FTSE/JSE All Share Index\n",
    "# jse_data = yf.download(ticker_symbol, start=start_date, end=end_date)\n",
    "\n",
    "# # Save the data to an Excel file\n",
    "# excel_filename = \"jse_data.xlsx\"\n",
    "# jse_data.to_excel(excel_filename)\n",
    "\n",
    "# print(f\"FTSE/JSE All Share Index data has been saved to {excel_filename}\")"
   ]
  },
  {
   "cell_type": "code",
   "execution_count": 2,
   "id": "e4d47a66",
   "metadata": {},
   "outputs": [
    {
     "name": "stderr",
     "output_type": "stream",
     "text": [
      "[*********************100%%**********************]  1 of 1 completed\n"
     ]
    },
    {
     "name": "stdout",
     "output_type": "stream",
     "text": [
      "Nigeria All Share Index data has been saved to nigeria_all_share_index_data.xlsx\n"
     ]
    }
   ],
   "source": [
    "import yfinance as yf\n",
    "\n",
    "# Define the ticker symbol for the Nigeria All Share Index\n",
    "ticker_symbol = \"^NSEI\"  # Note: Yahoo Finance may use a different ticker symbol for NSEASI\n",
    "\n",
    "# Define the start and end dates\n",
    "start_date = \"2015-01-01\"\n",
    "end_date = \"2024-04-01\"\n",
    "\n",
    "# Fetch historical data for the Nigeria All Share Index\n",
    "nigeria_data = yf.download(ticker_symbol, start=start_date, end=end_date)\n",
    "\n",
    "# Save the data to an Excel file\n",
    "excel_filename = \"nigeria_all_share_index_data.xlsx\"\n",
    "nigeria_data.to_excel(excel_filename)\n",
    "\n",
    "print(f\"Nigeria All Share Index data has been saved to {excel_filename}\")\n"
   ]
  },
  {
   "cell_type": "code",
   "execution_count": null,
   "id": "44178362",
   "metadata": {},
   "outputs": [],
   "source": []
  }
 ],
 "metadata": {
  "kernelspec": {
   "display_name": "Python 3 (ipykernel)",
   "language": "python",
   "name": "python3"
  },
  "language_info": {
   "codemirror_mode": {
    "name": "ipython",
    "version": 3
   },
   "file_extension": ".py",
   "mimetype": "text/x-python",
   "name": "python",
   "nbconvert_exporter": "python",
   "pygments_lexer": "ipython3",
   "version": "3.9.12"
  }
 },
 "nbformat": 4,
 "nbformat_minor": 5
}
