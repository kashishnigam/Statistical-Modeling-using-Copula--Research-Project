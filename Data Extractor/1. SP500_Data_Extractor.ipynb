{
 "cells": [
  {
   "cell_type": "code",
   "execution_count": 1,
   "id": "f1990481",
   "metadata": {},
   "outputs": [],
   "source": [
    "import yfinance as yf"
   ]
  },
  {
   "cell_type": "code",
   "execution_count": 2,
   "id": "50886190",
   "metadata": {},
   "outputs": [],
   "source": [
    "def get_sp500_data(start_date, end_date):\n",
    "    # Define the ticker symbol for S&P 500 index\n",
    "    ticker_symbol = \"^GSPC\"  # ^GSPC is the ticker symbol for S&P 500 index on Yahoo Finance\n",
    "\n",
    "    # Get the S&P 500 data from Yahoo Finance\n",
    "    sp500_data = yf.download(ticker_symbol, start=start_date, end=end_date)\n",
    "\n",
    "    return sp500_data"
   ]
  },
  {
   "cell_type": "code",
   "execution_count": 3,
   "id": "55d9bc81",
   "metadata": {},
   "outputs": [],
   "source": [
    "# Define the start and end dates for the data\n",
    "start_date = \"2015-01-01\"  # YYYY-MM-DD format\n",
    "end_date = \"2024-04-01\"  # YYYY-MM-DD format"
   ]
  },
  {
   "cell_type": "code",
   "execution_count": 4,
   "id": "014edbb2",
   "metadata": {},
   "outputs": [
    {
     "name": "stderr",
     "output_type": "stream",
     "text": [
      "[*********************100%%**********************]  1 of 1 completed\n"
     ]
    }
   ],
   "source": [
    "# Get S&P 500 data for the specified date range\n",
    "sp500_data = get_sp500_data(start_date, end_date)\n"
   ]
  },
  {
   "cell_type": "code",
   "execution_count": 5,
   "id": "2da335e0",
   "metadata": {},
   "outputs": [],
   "source": [
    "# Save the data to an Excel file\n",
    "excel_filename = \"sp500_data.xlsx\"\n",
    "sp500_data.to_excel(excel_filename)"
   ]
  },
  {
   "cell_type": "code",
   "execution_count": 6,
   "id": "2de0acfa",
   "metadata": {},
   "outputs": [
    {
     "name": "stdout",
     "output_type": "stream",
     "text": [
      "S&P 500 data has been saved to sp500_data.xlsx\n"
     ]
    }
   ],
   "source": [
    "print(f\"S&P 500 data has been saved to {excel_filename}\")"
   ]
  },
  {
   "cell_type": "code",
   "execution_count": null,
   "id": "f273f9cf",
   "metadata": {},
   "outputs": [],
   "source": []
  }
 ],
 "metadata": {
  "kernelspec": {
   "display_name": "Python 3 (ipykernel)",
   "language": "python",
   "name": "python3"
  },
  "language_info": {
   "codemirror_mode": {
    "name": "ipython",
    "version": 3
   },
   "file_extension": ".py",
   "mimetype": "text/x-python",
   "name": "python",
   "nbconvert_exporter": "python",
   "pygments_lexer": "ipython3",
   "version": "3.9.12"
  }
 },
 "nbformat": 4,
 "nbformat_minor": 5
}
