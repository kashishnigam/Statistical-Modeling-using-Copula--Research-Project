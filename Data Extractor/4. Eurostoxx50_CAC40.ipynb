{
 "cells": [
  {
   "cell_type": "code",
   "execution_count": 1,
   "id": "12bd7667",
   "metadata": {},
   "outputs": [],
   "source": [
    "import yfinance as yf"
   ]
  },
  {
   "cell_type": "code",
   "execution_count": 2,
   "id": "b1c2d0b7",
   "metadata": {},
   "outputs": [],
   "source": [
    "def get_index_data(ticker_symbol, start_date, end_date):\n",
    "    # Get the index data from Yahoo Finance\n",
    "    index_data = yf.download(ticker_symbol, start=start_date, end=end_date)\n",
    "\n",
    "    return index_data"
   ]
  },
  {
   "cell_type": "code",
   "execution_count": 3,
   "id": "5ef14547",
   "metadata": {},
   "outputs": [],
   "source": [
    "# Define the start and end dates for the data\n",
    "start_date = \"2015-01-01\"  # YYYY-MM-DD format\n",
    "end_date = \"2024-04-01\"  # YYYY-MM-DD format"
   ]
  },
  {
   "cell_type": "code",
   "execution_count": 4,
   "id": "a8281761",
   "metadata": {},
   "outputs": [
    {
     "name": "stderr",
     "output_type": "stream",
     "text": [
      "[*********************100%%**********************]  1 of 1 completed\n"
     ]
    }
   ],
   "source": [
    "# Get Euro Stoxx 50 data for the specified date range\n",
    "euro_stoxx50_data = get_index_data(\"^STOXX50E\", start_date, end_date)"
   ]
  },
  {
   "cell_type": "code",
   "execution_count": 5,
   "id": "8f934a57",
   "metadata": {},
   "outputs": [
    {
     "name": "stdout",
     "output_type": "stream",
     "text": [
      "Euro Stoxx 50 data has been saved to euro_stoxx50_data.xlsx\n"
     ]
    }
   ],
   "source": [
    "# Save Euro Stoxx 50 data to an Excel file\n",
    "euro_stoxx50_filename = \"euro_stoxx50_data.xlsx\"\n",
    "euro_stoxx50_data.to_excel(euro_stoxx50_filename)\n",
    "print(f\"Euro Stoxx 50 data has been saved to {euro_stoxx50_filename}\")"
   ]
  },
  {
   "cell_type": "code",
   "execution_count": 6,
   "id": "7f7b4279",
   "metadata": {},
   "outputs": [
    {
     "name": "stderr",
     "output_type": "stream",
     "text": [
      "[*********************100%%**********************]  1 of 1 completed\n"
     ]
    }
   ],
   "source": [
    "# Get CAC 40 data for the specified date range\n",
    "cac40_data = get_index_data(\"^FCHI\", start_date, end_date)"
   ]
  },
  {
   "cell_type": "code",
   "execution_count": 7,
   "id": "c97a83cc",
   "metadata": {},
   "outputs": [
    {
     "name": "stdout",
     "output_type": "stream",
     "text": [
      "CAC 40 data has been saved to cac40_data.xlsx\n"
     ]
    }
   ],
   "source": [
    "# Save CAC 40 data to an Excel file\n",
    "cac40_filename = \"cac40_data.xlsx\"\n",
    "cac40_data.to_excel(cac40_filename)\n",
    "print(f\"CAC 40 data has been saved to {cac40_filename}\")"
   ]
  },
  {
   "cell_type": "code",
   "execution_count": null,
   "id": "08e47ea0",
   "metadata": {},
   "outputs": [],
   "source": []
  }
 ],
 "metadata": {
  "kernelspec": {
   "display_name": "Python 3 (ipykernel)",
   "language": "python",
   "name": "python3"
  },
  "language_info": {
   "codemirror_mode": {
    "name": "ipython",
    "version": 3
   },
   "file_extension": ".py",
   "mimetype": "text/x-python",
   "name": "python",
   "nbconvert_exporter": "python",
   "pygments_lexer": "ipython3",
   "version": "3.9.12"
  }
 },
 "nbformat": 4,
 "nbformat_minor": 5
}
