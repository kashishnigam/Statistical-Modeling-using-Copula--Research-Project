{
 "cells": [
  {
   "cell_type": "code",
   "execution_count": 1,
   "id": "0cb8e4ae",
   "metadata": {},
   "outputs": [
    {
     "name": "stderr",
     "output_type": "stream",
     "text": [
      "[*********************100%%**********************]  1 of 1 completed\n"
     ]
    },
    {
     "name": "stdout",
     "output_type": "stream",
     "text": [
      "TASI data has been saved to tasi_data.xlsx\n"
     ]
    }
   ],
   "source": [
    "import yfinance as yf\n",
    "\n",
    "# Define the ticker symbol for TASI\n",
    "ticker_symbol = \"^TASI.SR\"\n",
    "\n",
    "# Define the start and end dates\n",
    "start_date = \"2015-01-01\"\n",
    "end_date = \"2024-04-01\"\n",
    "\n",
    "# Fetch historical data for TASI\n",
    "tasi_data = yf.download(ticker_symbol, start=start_date, end=end_date)\n",
    "\n",
    "# Save the data to an Excel file\n",
    "excel_filename = \"tasi_data.xlsx\"\n",
    "tasi_data.to_excel(excel_filename)\n",
    "\n",
    "print(f\"TASI data has been saved to {excel_filename}\")\n"
   ]
  },
  {
   "cell_type": "code",
   "execution_count": null,
   "id": "c8498ee3",
   "metadata": {},
   "outputs": [],
   "source": []
  }
 ],
 "metadata": {
  "kernelspec": {
   "display_name": "Python 3 (ipykernel)",
   "language": "python",
   "name": "python3"
  },
  "language_info": {
   "codemirror_mode": {
    "name": "ipython",
    "version": 3
   },
   "file_extension": ".py",
   "mimetype": "text/x-python",
   "name": "python",
   "nbconvert_exporter": "python",
   "pygments_lexer": "ipython3",
   "version": "3.9.12"
  }
 },
 "nbformat": 4,
 "nbformat_minor": 5
}
