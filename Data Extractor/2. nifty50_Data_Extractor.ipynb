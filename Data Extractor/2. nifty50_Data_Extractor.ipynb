{
 "cells": [
  {
   "cell_type": "code",
   "execution_count": 1,
   "id": "b46876c7",
   "metadata": {},
   "outputs": [],
   "source": [
    "import yfinance as yf"
   ]
  },
  {
   "cell_type": "code",
   "execution_count": 2,
   "id": "a614d869",
   "metadata": {},
   "outputs": [],
   "source": [
    "def get_nifty50_data(start_date, end_date):\n",
    "    # Define the ticker symbol for Nifty 50 index\n",
    "    ticker_symbol = \"^NSEI\"  # ^NSEI is the ticker symbol for Nifty 50 index on Yahoo Finance\n",
    "\n",
    "    # Get the Nifty 50 data from Yahoo Finance\n",
    "    nifty50_data = yf.download(ticker_symbol, start=start_date, end=end_date)\n",
    "\n",
    "    return nifty50_data"
   ]
  },
  {
   "cell_type": "code",
   "execution_count": 3,
   "id": "2f1a23a7",
   "metadata": {},
   "outputs": [],
   "source": [
    "# Define the start and end dates for the data\n",
    "start_date = \"2015-01-01\"  # YYYY-MM-DD format\n",
    "end_date = \"2024-04-01\"  # YYYY-MM-DD format"
   ]
  },
  {
   "cell_type": "code",
   "execution_count": 4,
   "id": "518adcad",
   "metadata": {},
   "outputs": [
    {
     "name": "stderr",
     "output_type": "stream",
     "text": [
      "[*********************100%%**********************]  1 of 1 completed\n"
     ]
    }
   ],
   "source": [
    "# Get Nifty 50 data for the specified date range\n",
    "nifty50_data = get_nifty50_data(start_date, end_date)"
   ]
  },
  {
   "cell_type": "code",
   "execution_count": 5,
   "id": "05517c0e",
   "metadata": {},
   "outputs": [],
   "source": [
    "# Save the data to an Excel file\n",
    "excel_filename = \"nifty50_data.xlsx\"\n",
    "nifty50_data.to_excel(excel_filename)"
   ]
  },
  {
   "cell_type": "code",
   "execution_count": 6,
   "id": "4885c3f8",
   "metadata": {},
   "outputs": [
    {
     "name": "stdout",
     "output_type": "stream",
     "text": [
      "Nifty 50 data has been saved to nifty50_data.xlsx\n"
     ]
    }
   ],
   "source": [
    "print(f\"Nifty 50 data has been saved to {excel_filename}\")"
   ]
  },
  {
   "cell_type": "code",
   "execution_count": null,
   "id": "7339b6b8",
   "metadata": {},
   "outputs": [],
   "source": [
    "\n",
    "\n",
    "\n",
    "\n",
    "\n",
    "\n",
    "\n",
    "\n",
    "\n",
    "\n"
   ]
  }
 ],
 "metadata": {
  "kernelspec": {
   "display_name": "Python 3 (ipykernel)",
   "language": "python",
   "name": "python3"
  },
  "language_info": {
   "codemirror_mode": {
    "name": "ipython",
    "version": 3
   },
   "file_extension": ".py",
   "mimetype": "text/x-python",
   "name": "python",
   "nbconvert_exporter": "python",
   "pygments_lexer": "ipython3",
   "version": "3.9.12"
  }
 },
 "nbformat": 4,
 "nbformat_minor": 5
}
