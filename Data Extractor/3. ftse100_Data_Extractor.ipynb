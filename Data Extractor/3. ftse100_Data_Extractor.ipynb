{
 "cells": [
  {
   "cell_type": "code",
   "execution_count": 1,
   "id": "8cea5402",
   "metadata": {},
   "outputs": [],
   "source": [
    "import yfinance as yf"
   ]
  },
  {
   "cell_type": "code",
   "execution_count": 2,
   "id": "369cd1a4",
   "metadata": {},
   "outputs": [],
   "source": [
    "def get_ftse100_data(start_date, end_date):\n",
    "    # Define the ticker symbol for FTSE 100 index\n",
    "    ticker_symbol = \"^FTSE\"  # ^FTSE is the ticker symbol for FTSE 100 index on Yahoo Finance\n",
    "\n",
    "    # Get the FTSE 100 data from Yahoo Finance\n",
    "    ftse100_data = yf.download(ticker_symbol, start=start_date, end=end_date)\n",
    "\n",
    "    return ftse100_data"
   ]
  },
  {
   "cell_type": "code",
   "execution_count": 3,
   "id": "ab2b0d30",
   "metadata": {},
   "outputs": [],
   "source": [
    "# Define the start and end dates for the data\n",
    "start_date = \"2015-01-01\"  # YYYY-MM-DD format\n",
    "end_date = \"2024-04-01\"  # YYYY-MM-DD format"
   ]
  },
  {
   "cell_type": "code",
   "execution_count": 4,
   "id": "3e3f3993",
   "metadata": {},
   "outputs": [
    {
     "name": "stderr",
     "output_type": "stream",
     "text": [
      "[*********************100%%**********************]  1 of 1 completed\n"
     ]
    }
   ],
   "source": [
    "# Get FTSE 100 data for the specified date range\n",
    "ftse100_data = get_ftse100_data(start_date, end_date)\n"
   ]
  },
  {
   "cell_type": "code",
   "execution_count": 5,
   "id": "7da68887",
   "metadata": {},
   "outputs": [],
   "source": [
    "# Save the data to an Excel file\n",
    "excel_filename = \"ftse100_data.xlsx\"\n",
    "ftse100_data.to_excel(excel_filename)"
   ]
  },
  {
   "cell_type": "code",
   "execution_count": 6,
   "id": "d7d0fc11",
   "metadata": {},
   "outputs": [
    {
     "name": "stdout",
     "output_type": "stream",
     "text": [
      "FTSE 100 data has been saved to ftse100_data.xlsx\n"
     ]
    }
   ],
   "source": [
    "print(f\"FTSE 100 data has been saved to {excel_filename}\")"
   ]
  },
  {
   "cell_type": "code",
   "execution_count": null,
   "id": "fb698ae4",
   "metadata": {},
   "outputs": [],
   "source": [
    "\n",
    "\n",
    "\n",
    "\n",
    "\n",
    "\n",
    "\n",
    "\n",
    "\n",
    "\n"
   ]
  }
 ],
 "metadata": {
  "kernelspec": {
   "display_name": "Python 3 (ipykernel)",
   "language": "python",
   "name": "python3"
  },
  "language_info": {
   "codemirror_mode": {
    "name": "ipython",
    "version": 3
   },
   "file_extension": ".py",
   "mimetype": "text/x-python",
   "name": "python",
   "nbconvert_exporter": "python",
   "pygments_lexer": "ipython3",
   "version": "3.9.12"
  }
 },
 "nbformat": 4,
 "nbformat_minor": 5
}
