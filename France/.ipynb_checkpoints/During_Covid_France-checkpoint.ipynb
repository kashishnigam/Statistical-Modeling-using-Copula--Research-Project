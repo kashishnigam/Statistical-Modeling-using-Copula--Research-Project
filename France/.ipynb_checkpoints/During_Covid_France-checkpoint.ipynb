{
 "cells": [
  {
   "cell_type": "code",
   "execution_count": 1,
   "id": "da3ae50f",
   "metadata": {},
   "outputs": [],
   "source": [
    "import pandas as pd\n",
    "from statsmodels.tsa.stattools import adfuller\n",
    "import matplotlib.pyplot as plt\n",
    "import numpy as np\n",
    "from scipy.stats import rankdata, genpareto\n",
    "from statsmodels.nonparametric.kde import KDEUnivariate\n",
    "from statsmodels.stats.diagnostic import acorr_ljungbox\n",
    "import seaborn as sns"
   ]
  },
  {
   "cell_type": "code",
   "execution_count": 2,
   "id": "a79bdde1",
   "metadata": {},
   "outputs": [],
   "source": [
    "df_cleaned = pd.read_excel(\"France_Brent.xlsx\")"
   ]
  },
  {
   "cell_type": "code",
   "execution_count": 3,
   "id": "f6706f8e",
   "metadata": {},
   "outputs": [
    {
     "name": "stdout",
     "output_type": "stream",
     "text": [
      "Date          datetime64[ns]\n",
      "Close_cac            float64\n",
      "Brent_Euro           float64\n",
      "dtype: object\n"
     ]
    }
   ],
   "source": [
    "print(df_cleaned.dtypes)"
   ]
  },
  {
   "cell_type": "code",
   "execution_count": 4,
   "id": "dbdd4eaa",
   "metadata": {},
   "outputs": [
    {
     "data": {
      "text/html": [
       "<div>\n",
       "<style scoped>\n",
       "    .dataframe tbody tr th:only-of-type {\n",
       "        vertical-align: middle;\n",
       "    }\n",
       "\n",
       "    .dataframe tbody tr th {\n",
       "        vertical-align: top;\n",
       "    }\n",
       "\n",
       "    .dataframe thead th {\n",
       "        text-align: right;\n",
       "    }\n",
       "</style>\n",
       "<table border=\"1\" class=\"dataframe\">\n",
       "  <thead>\n",
       "    <tr style=\"text-align: right;\">\n",
       "      <th></th>\n",
       "      <th>Date</th>\n",
       "      <th>Close_cac</th>\n",
       "      <th>Brent_Euro</th>\n",
       "    </tr>\n",
       "  </thead>\n",
       "  <tbody>\n",
       "    <tr>\n",
       "      <th>0</th>\n",
       "      <td>2015-01-02</td>\n",
       "      <td>4252.290039</td>\n",
       "      <td>49.936091</td>\n",
       "    </tr>\n",
       "    <tr>\n",
       "      <th>1</th>\n",
       "      <td>2015-01-05</td>\n",
       "      <td>4111.359863</td>\n",
       "      <td>46.058785</td>\n",
       "    </tr>\n",
       "    <tr>\n",
       "      <th>2</th>\n",
       "      <td>2015-01-06</td>\n",
       "      <td>4083.500000</td>\n",
       "      <td>45.193154</td>\n",
       "    </tr>\n",
       "    <tr>\n",
       "      <th>3</th>\n",
       "      <td>2015-01-07</td>\n",
       "      <td>4112.729980</td>\n",
       "      <td>44.237353</td>\n",
       "    </tr>\n",
       "    <tr>\n",
       "      <th>4</th>\n",
       "      <td>2015-01-08</td>\n",
       "      <td>4260.189941</td>\n",
       "      <td>44.570982</td>\n",
       "    </tr>\n",
       "    <tr>\n",
       "      <th>...</th>\n",
       "      <td>...</td>\n",
       "      <td>...</td>\n",
       "      <td>...</td>\n",
       "    </tr>\n",
       "    <tr>\n",
       "      <th>2621</th>\n",
       "      <td>2024-03-25</td>\n",
       "      <td>8151.600098</td>\n",
       "      <td>79.625839</td>\n",
       "    </tr>\n",
       "    <tr>\n",
       "      <th>2622</th>\n",
       "      <td>2024-03-26</td>\n",
       "      <td>8184.750000</td>\n",
       "      <td>79.376373</td>\n",
       "    </tr>\n",
       "    <tr>\n",
       "      <th>2623</th>\n",
       "      <td>2024-03-27</td>\n",
       "      <td>8204.809570</td>\n",
       "      <td>78.480143</td>\n",
       "    </tr>\n",
       "    <tr>\n",
       "      <th>2624</th>\n",
       "      <td>2024-03-28</td>\n",
       "      <td>8205.809570</td>\n",
       "      <td>79.616599</td>\n",
       "    </tr>\n",
       "    <tr>\n",
       "      <th>2625</th>\n",
       "      <td>2024-03-31</td>\n",
       "      <td>NaN</td>\n",
       "      <td>NaN</td>\n",
       "    </tr>\n",
       "  </tbody>\n",
       "</table>\n",
       "<p>2626 rows × 3 columns</p>\n",
       "</div>"
      ],
      "text/plain": [
       "           Date    Close_cac  Brent_Euro\n",
       "0    2015-01-02  4252.290039   49.936091\n",
       "1    2015-01-05  4111.359863   46.058785\n",
       "2    2015-01-06  4083.500000   45.193154\n",
       "3    2015-01-07  4112.729980   44.237353\n",
       "4    2015-01-08  4260.189941   44.570982\n",
       "...         ...          ...         ...\n",
       "2621 2024-03-25  8151.600098   79.625839\n",
       "2622 2024-03-26  8184.750000   79.376373\n",
       "2623 2024-03-27  8204.809570   78.480143\n",
       "2624 2024-03-28  8205.809570   79.616599\n",
       "2625 2024-03-31          NaN         NaN\n",
       "\n",
       "[2626 rows x 3 columns]"
      ]
     },
     "execution_count": 4,
     "metadata": {},
     "output_type": "execute_result"
    }
   ],
   "source": [
    "df_cleaned"
   ]
  },
  {
   "cell_type": "code",
   "execution_count": 5,
   "id": "d5133495",
   "metadata": {},
   "outputs": [
    {
     "name": "stdout",
     "output_type": "stream",
     "text": [
      "Date            0\n",
      "Close_cac     259\n",
      "Brent_Euro    277\n",
      "dtype: int64\n"
     ]
    }
   ],
   "source": [
    "missing_values = df_cleaned.isnull().sum()\n",
    "print(missing_values)"
   ]
  },
  {
   "cell_type": "code",
   "execution_count": 6,
   "id": "a70f652a",
   "metadata": {},
   "outputs": [],
   "source": [
    "# Drop rows where both 'Close_cac' and 'Brent_Euro' are NaN\n",
    "df = df_cleaned.dropna(how='all', subset=['Close_cac', 'Brent_Euro'])"
   ]
  },
  {
   "cell_type": "code",
   "execution_count": 7,
   "id": "04d4eb77",
   "metadata": {},
   "outputs": [
    {
     "name": "stdout",
     "output_type": "stream",
     "text": [
      "Date           0\n",
      "Close_cac     11\n",
      "Brent_Euro    29\n",
      "dtype: int64\n"
     ]
    }
   ],
   "source": [
    "missing_values = df.isnull().sum()\n",
    "print(missing_values)"
   ]
  },
  {
   "cell_type": "code",
   "execution_count": 8,
   "id": "1c2e8018",
   "metadata": {},
   "outputs": [],
   "source": [
    "#Define the date ranges\n",
    "pre_covid_start = '2015-01-01'\n",
    "pre_covid_end = '2020-02-29'\n",
    "covid_start = '2020-03-01'\n",
    "covid_end = '2022-02-28'\n",
    "post_covid_start = '2022-03-01'\n",
    "post_covid_end = '2024-03-31'"
   ]
  },
  {
   "cell_type": "code",
   "execution_count": 9,
   "id": "abb6f62e",
   "metadata": {},
   "outputs": [],
   "source": [
    "# Filter the data\n",
    "pre_covid_data = df[(df['Date'] >= pre_covid_start) & (df['Date'] <= pre_covid_end)]\n",
    "covid_data = df[(df['Date'] >= covid_start) & (df['Date'] <= covid_end)]\n",
    "post_covid_data = df[(df['Date'] >= post_covid_start) & (df['Date'] <= post_covid_end)]"
   ]
  },
  {
   "cell_type": "code",
   "execution_count": 10,
   "id": "5b60d90d",
   "metadata": {},
   "outputs": [
    {
     "data": {
      "text/html": [
       "<div>\n",
       "<style scoped>\n",
       "    .dataframe tbody tr th:only-of-type {\n",
       "        vertical-align: middle;\n",
       "    }\n",
       "\n",
       "    .dataframe tbody tr th {\n",
       "        vertical-align: top;\n",
       "    }\n",
       "\n",
       "    .dataframe thead th {\n",
       "        text-align: right;\n",
       "    }\n",
       "</style>\n",
       "<table border=\"1\" class=\"dataframe\">\n",
       "  <thead>\n",
       "    <tr style=\"text-align: right;\">\n",
       "      <th></th>\n",
       "      <th>Date</th>\n",
       "      <th>Close_cac</th>\n",
       "      <th>Brent_Euro</th>\n",
       "    </tr>\n",
       "  </thead>\n",
       "  <tbody>\n",
       "    <tr>\n",
       "      <th>1983</th>\n",
       "      <td>2022-02-22</td>\n",
       "      <td>6787.600098</td>\n",
       "      <td>93.901906</td>\n",
       "    </tr>\n",
       "    <tr>\n",
       "      <th>1984</th>\n",
       "      <td>2022-02-23</td>\n",
       "      <td>6780.669922</td>\n",
       "      <td>94.434520</td>\n",
       "    </tr>\n",
       "    <tr>\n",
       "      <th>1985</th>\n",
       "      <td>2022-02-24</td>\n",
       "      <td>6521.049805</td>\n",
       "      <td>96.336716</td>\n",
       "    </tr>\n",
       "    <tr>\n",
       "      <th>1986</th>\n",
       "      <td>2022-02-25</td>\n",
       "      <td>6752.430176</td>\n",
       "      <td>93.740219</td>\n",
       "    </tr>\n",
       "    <tr>\n",
       "      <th>1988</th>\n",
       "      <td>2022-02-28</td>\n",
       "      <td>6658.830078</td>\n",
       "      <td>98.039182</td>\n",
       "    </tr>\n",
       "  </tbody>\n",
       "</table>\n",
       "</div>"
      ],
      "text/plain": [
       "           Date    Close_cac  Brent_Euro\n",
       "1983 2022-02-22  6787.600098   93.901906\n",
       "1984 2022-02-23  6780.669922   94.434520\n",
       "1985 2022-02-24  6521.049805   96.336716\n",
       "1986 2022-02-25  6752.430176   93.740219\n",
       "1988 2022-02-28  6658.830078   98.039182"
      ]
     },
     "execution_count": 10,
     "metadata": {},
     "output_type": "execute_result"
    }
   ],
   "source": [
    "covid_data.tail()"
   ]
  },
  {
   "cell_type": "code",
   "execution_count": 11,
   "id": "20f0bb21",
   "metadata": {},
   "outputs": [
    {
     "name": "stdout",
     "output_type": "stream",
     "text": [
      "Date          0\n",
      "Close_cac     1\n",
      "Brent_Euro    8\n",
      "dtype: int64\n"
     ]
    }
   ],
   "source": [
    "missing_values = covid_data.isnull().sum()\n",
    "print(missing_values)"
   ]
  },
  {
   "cell_type": "code",
   "execution_count": 12,
   "id": "4874d0a8",
   "metadata": {},
   "outputs": [
    {
     "name": "stderr",
     "output_type": "stream",
     "text": [
      "C:\\Users\\KASHISH NIGAM\\AppData\\Local\\Temp\\ipykernel_636\\575695476.py:2: SettingWithCopyWarning: \n",
      "A value is trying to be set on a copy of a slice from a DataFrame\n",
      "\n",
      "See the caveats in the documentation: https://pandas.pydata.org/pandas-docs/stable/user_guide/indexing.html#returning-a-view-versus-a-copy\n",
      "  covid_data.fillna(method='ffill', inplace=True)\n"
     ]
    }
   ],
   "source": [
    "# Forward fill missing values\n",
    "covid_data.fillna(method='ffill', inplace=True)"
   ]
  },
  {
   "cell_type": "code",
   "execution_count": 13,
   "id": "c86bb93e",
   "metadata": {},
   "outputs": [
    {
     "name": "stdout",
     "output_type": "stream",
     "text": [
      "ADF Test Results for Close_cac:\n",
      "ADF Statistic: -0.9103288952289734\n",
      "p-value: 0.784551936087228\n",
      "Critical Values:\n",
      "   1%: -3.4432119442564324\n",
      "   5%: -2.8672126791646955\n",
      "   10%: -2.569791324979607\n",
      "\n",
      "ADF Test Results for Brent_Euro:\n",
      "ADF Statistic: 0.8966400777171584\n",
      "p-value: 0.9930463214071061\n",
      "Critical Values:\n",
      "   1%: -3.443136494643789\n",
      "   5%: -2.8671794725841147\n",
      "   10%: -2.5697736283668187\n",
      "\n"
     ]
    }
   ],
   "source": [
    "time_series_columns = ['Close_cac', 'Brent_Euro']\n",
    "\n",
    "def adf_test(timeseries):\n",
    "    result = adfuller(timeseries, autolag='AIC')\n",
    "    print('ADF Statistic:', result[0])\n",
    "    print('p-value:', result[1])\n",
    "    print('Critical Values:')\n",
    "    for key, value in result[4].items():\n",
    "        print(f'   {key}: {value}')\n",
    "\n",
    "# Loop over each column and perform ADF test\n",
    "for column in time_series_columns:\n",
    "    print(f\"ADF Test Results for {column}:\")\n",
    "    adf_test(covid_data[column])\n",
    "    print()"
   ]
  },
  {
   "cell_type": "code",
   "execution_count": null,
   "id": "50f1d40f",
   "metadata": {},
   "outputs": [],
   "source": []
  },
  {
   "cell_type": "code",
   "execution_count": 14,
   "id": "73851b52",
   "metadata": {},
   "outputs": [],
   "source": [
    "# from statsmodels.tsa.seasonal import seasonal_decompose\n",
    "# import matplotlib.pyplot as plt\n",
    "\n",
    "# # Decompose the time series\n",
    "# result = seasonal_decompose(covid_data['Close_sp'], model='additive', period=250)\n",
    "\n",
    "# # Plot the decomposed components\n",
    "# plt.figure(figsize=(12, 8))\n",
    "\n",
    "# plt.subplot(411)\n",
    "# plt.plot(covid_data['Close_sp'], label='Original', color='blue')\n",
    "# plt.legend(loc='upper left', facecolor='black', edgecolor='white', labelcolor='white')\n",
    "# plt.ylabel('Original', color='white')\n",
    "# plt.tick_params(axis='x', colors='white')\n",
    "# plt.tick_params(axis='y', colors='white')\n",
    "# plt.title('Time Series Decomposition', color='white')\n",
    "\n",
    "# plt.subplot(412)\n",
    "# plt.plot(result.trend, label='Trend', color='blue')\n",
    "# plt.legend(loc='upper left', facecolor='black', edgecolor='white', labelcolor='white')\n",
    "# plt.ylabel('Trend', color='white')\n",
    "# plt.tick_params(axis='x', colors='white')\n",
    "# plt.tick_params(axis='y', colors='white')\n",
    "\n",
    "# plt.subplot(413)\n",
    "# plt.plot(result.seasonal, label='Seasonal', color='blue')\n",
    "# plt.legend(loc='upper left', facecolor='black', edgecolor='white', labelcolor='white')\n",
    "# plt.ylabel('Seasonal', color='white')\n",
    "# plt.tick_params(axis='x', colors='white')\n",
    "# plt.tick_params(axis='y', colors='white')\n",
    "\n",
    "# plt.subplot(414)\n",
    "# plt.plot(result.resid, label='Residual', color='blue')\n",
    "# plt.legend(loc='upper left', facecolor='black', edgecolor='white', labelcolor='white')\n",
    "# plt.ylabel('Residual', color='white')\n",
    "# plt.tick_params(axis='x', colors='white')\n",
    "# plt.tick_params(axis='y', colors='white')\n",
    "# plt.xlabel('Date', color='white')\n",
    "\n",
    "# plt.tight_layout()\n",
    "# plt.show()\n",
    "\n",
    "\n",
    "# import matplotlib.pyplot as plt\n",
    "# from statsmodels.tsa.seasonal import seasonal_decompose\n",
    "\n",
    "# # Decompose the time series\n",
    "# result = seasonal_decompose(covid_data['Brent_Crude'], model='additive', period=250)\n",
    "\n",
    "# # Plot the decomposed components\n",
    "# plt.figure(figsize=(12, 8))\n",
    "\n",
    "# plt.subplot(411)\n",
    "# plt.plot(covid_data['Brent_Crude'], label='Original', color='blue')\n",
    "# plt.legend(loc='upper left', facecolor='black', edgecolor='white', labelcolor='white')\n",
    "# plt.ylabel('Original', color='white')\n",
    "# plt.tick_params(axis='x', colors='white')\n",
    "# plt.tick_params(axis='y', colors='white')\n",
    "# plt.title('Time Series Decomposition', color='white')\n",
    "\n",
    "# plt.subplot(412)\n",
    "# plt.plot(result.trend, label='Trend', color='blue')\n",
    "# plt.legend(loc='upper left', facecolor='black', edgecolor='white', labelcolor='white')\n",
    "# plt.ylabel('Trend', color='white')\n",
    "# plt.tick_params(axis='x', colors='white')\n",
    "# plt.tick_params(axis='y', colors='white')\n",
    "\n",
    "# plt.subplot(413)\n",
    "# plt.plot(result.seasonal, label='Seasonal', color='blue')\n",
    "# plt.legend(loc='upper left', facecolor='black', edgecolor='white', labelcolor='white')\n",
    "# plt.ylabel('Seasonal', color='white')\n",
    "# plt.tick_params(axis='x', colors='white')\n",
    "# plt.tick_params(axis='y', colors='white')\n",
    "\n",
    "# plt.subplot(414)\n",
    "# plt.plot(result.resid, label='Residual', color='blue')\n",
    "# plt.legend(loc='upper left', facecolor='black', edgecolor='white', labelcolor='white')\n",
    "# plt.ylabel('Residual', color='white')\n",
    "# plt.tick_params(axis='x', colors='white')\n",
    "# plt.tick_params(axis='y', colors='white')\n",
    "# plt.xlabel('Date', color='white')\n",
    "\n",
    "# plt.tight_layout()\n",
    "# plt.show()"
   ]
  },
  {
   "cell_type": "code",
   "execution_count": 15,
   "id": "a9785c66",
   "metadata": {},
   "outputs": [
    {
     "name": "stdout",
     "output_type": "stream",
     "text": [
      "         Close_cac  Brent_Euro\n",
      "count   515.000000  515.000000\n",
      "mean   5835.606645   51.082115\n",
      "std     909.551108   18.065335\n",
      "min    3754.840088    7.996589\n",
      "25%    4977.705078   37.133285\n",
      "50%    5797.979980   53.513491\n",
      "75%    6652.810059   62.815773\n",
      "max    7376.370117   98.039182\n"
     ]
    }
   ],
   "source": [
    "summary = covid_data.describe()\n",
    "print(summary)"
   ]
  },
  {
   "cell_type": "code",
   "execution_count": 16,
   "id": "8fe434e1",
   "metadata": {},
   "outputs": [],
   "source": [
    "# import matplotlib.pyplot as plt\n",
    "\n",
    "# # Plot histogram for 'Close_sp'\n",
    "# plt.figure(figsize=(8, 6))\n",
    "# plt.hist(covid_data['Close_sp'], bins=30, color='blue', edgecolor='black', alpha=0.7)\n",
    "\n",
    "# # Add labels and title\n",
    "# plt.xlabel('Close_sp', color='white')\n",
    "# plt.ylabel('Frequency', color='white')\n",
    "# plt.title('Histogram of Close_sp', color='white')\n",
    "\n",
    "# # Customize tick parameters to be white\n",
    "# plt.tick_params(axis='x', colors='white')\n",
    "# plt.tick_params(axis='y', colors='white')\n",
    "\n",
    "# # Show grid and plot\n",
    "# plt.grid(True)\n",
    "# plt.tight_layout()\n",
    "# plt.show()\n",
    "\n",
    "# # Plot histogram for 'Brent_Crude'\n",
    "# plt.figure(figsize=(8, 6))\n",
    "# plt.hist(covid_data['Brent_Crude'], bins=30, color='blue', edgecolor='black', alpha=0.7)\n",
    "\n",
    "# # Add labels and title\n",
    "# plt.xlabel('Brent_Crude', color='white')\n",
    "# plt.ylabel('Frequency', color='white')\n",
    "# plt.title('Histogram of Brent_Crude', color='white')\n",
    "\n",
    "# # Customize tick parameters to be white\n",
    "# plt.tick_params(axis='x', colors='white')\n",
    "# plt.tick_params(axis='y', colors='white')\n",
    "\n",
    "# # Show grid and plot\n",
    "# plt.grid(True)\n",
    "# plt.tight_layout()\n",
    "# plt.show()"
   ]
  },
  {
   "cell_type": "code",
   "execution_count": 17,
   "id": "c2da6b55",
   "metadata": {},
   "outputs": [],
   "source": [
    "covid_data = covid_data.copy()\n",
    "covid_data['Log_Return_Close_cac'] = np.log(covid_data['Close_cac'] / covid_data['Close_cac'].shift(1))\n",
    "covid_data['Log_Return_Brent_Euro'] = np.log(covid_data['Brent_Euro'] / covid_data['Brent_Euro'].shift(1))"
   ]
  },
  {
   "cell_type": "code",
   "execution_count": 18,
   "id": "abe87322",
   "metadata": {},
   "outputs": [
    {
     "name": "stdout",
     "output_type": "stream",
     "text": [
      "Date                     0\n",
      "Close_cac                0\n",
      "Brent_Euro               0\n",
      "Log_Return_Close_cac     1\n",
      "Log_Return_Brent_Euro    1\n",
      "dtype: int64\n"
     ]
    }
   ],
   "source": [
    "missing_values = covid_data.isnull().sum()\n",
    "print(missing_values)"
   ]
  },
  {
   "cell_type": "code",
   "execution_count": 19,
   "id": "4bfd80dc",
   "metadata": {},
   "outputs": [],
   "source": [
    "covid_data = covid_data.dropna()"
   ]
  },
  {
   "cell_type": "code",
   "execution_count": 20,
   "id": "7cf03c31",
   "metadata": {},
   "outputs": [
    {
     "name": "stdout",
     "output_type": "stream",
     "text": [
      "Date                     0\n",
      "Close_cac                0\n",
      "Brent_Euro               0\n",
      "Log_Return_Close_cac     0\n",
      "Log_Return_Brent_Euro    0\n",
      "dtype: int64\n"
     ]
    }
   ],
   "source": [
    "missing_values = covid_data.isnull().sum()\n",
    "print(missing_values)"
   ]
  },
  {
   "cell_type": "code",
   "execution_count": 21,
   "id": "f8c43d2c",
   "metadata": {},
   "outputs": [
    {
     "name": "stdout",
     "output_type": "stream",
     "text": [
      "Summary Statistics for Covid Data:\n",
      "                              Mean          Max          Min         SD  \\\n",
      "Date                           N/A          N/A          N/A        N/A   \n",
      "Close_cac              5836.583468  7376.370117  3754.840088  910.16674   \n",
      "Brent_Euro               51.091904    98.039182     7.996589  18.081567   \n",
      "Log_Return_Close_cac      0.000432     0.080561    -0.130983   0.015967   \n",
      "Log_Return_Brent_Euro      0.00147     0.412023    -0.643699   0.053065   \n",
      "\n",
      "                           Skew  Ex. Kurt.           J–B  \n",
      "Date                        N/A        N/A           N/A  \n",
      "Close_cac             -0.176238  -1.273692      37.40488  \n",
      "Brent_Euro             0.162943  -0.264384      3.771501  \n",
      "Log_Return_Close_cac  -1.335683  13.135807    3848.26695  \n",
      "Log_Return_Brent_Euro  -2.83103  53.650315  62331.393925  \n"
     ]
    }
   ],
   "source": [
    "import pandas as pd\n",
    "from scipy.stats import skew, kurtosis, jarque_bera\n",
    "# Create a summary statistics DataFrame for post_covid_data\n",
    "# Create a summary statistics DataFrame for covid_data\n",
    "summary_stats_covid = pd.DataFrame(index=covid_data.columns, columns=['Mean', 'Max', 'Min', 'SD', 'Skew', 'Ex. Kurt.', 'J–B'])\n",
    "\n",
    "for col in covid_data.columns:\n",
    "    if pd.api.types.is_numeric_dtype(covid_data[col]):\n",
    "        summary_stats_covid.at[col, 'Mean'] = covid_data[col].mean()\n",
    "        summary_stats_covid.at[col, 'Max'] = covid_data[col].max()\n",
    "        summary_stats_covid.at[col, 'Min'] = covid_data[col].min()\n",
    "        summary_stats_covid.at[col, 'SD'] = covid_data[col].std()\n",
    "        summary_stats_covid.at[col, 'Skew'] = skew(covid_data[col])\n",
    "        summary_stats_covid.at[col, 'Ex. Kurt.'] = kurtosis(covid_data[col], fisher=True)\n",
    "        jb_stat, jb_p_value = jarque_bera(covid_data[col])\n",
    "        summary_stats_covid.at[col, 'J–B'] = jb_stat\n",
    "    else:\n",
    "        summary_stats_covid.at[col, 'Mean'] = 'N/A'\n",
    "        summary_stats_covid.at[col, 'Max'] = 'N/A'\n",
    "        summary_stats_covid.at[col, 'Min'] = 'N/A'\n",
    "        summary_stats_covid.at[col, 'SD'] = 'N/A'\n",
    "        summary_stats_covid.at[col, 'Skew'] = 'N/A'\n",
    "        summary_stats_covid.at[col, 'Ex. Kurt.'] = 'N/A'\n",
    "        summary_stats_covid.at[col, 'J–B'] = 'N/A'\n",
    "\n",
    "# Round the summary statistics to 6 decimal places, except for 'N/A' values\n",
    "summary_stats_covid = summary_stats_covid.applymap(lambda x: round(x, 6) if isinstance(x, (int, float)) else x)\n",
    "print(\"Summary Statistics for Covid Data:\")\n",
    "print(summary_stats_covid)\n"
   ]
  },
  {
   "cell_type": "code",
   "execution_count": null,
   "id": "0f20e17d",
   "metadata": {},
   "outputs": [],
   "source": []
  },
  {
   "cell_type": "code",
   "execution_count": null,
   "id": "9ddcaf13",
   "metadata": {},
   "outputs": [],
   "source": []
  },
  {
   "cell_type": "code",
   "execution_count": null,
   "id": "f4a2798a",
   "metadata": {},
   "outputs": [],
   "source": []
  },
  {
   "cell_type": "code",
   "execution_count": 22,
   "id": "18428520",
   "metadata": {},
   "outputs": [
    {
     "data": {
      "image/png": "[encoded data removed]",
      "text/plain": [
       "<Figure size 432x288 with 1 Axes>"
      ]
     },
     "metadata": {
      "needs_background": "light"
     },
     "output_type": "display_data"
    },
    {
     "data": {
      "image/png": "[encoded data removed]",
      "text/plain": [
       "<Figure size 432x288 with 1 Axes>"
      ]
     },
     "metadata": {
      "needs_background": "light"
     },
     "output_type": "display_data"
    }
   ],
   "source": [
    "import scipy.stats as stats\n",
    "# Plot Q-Q plot for 'Log_Return_Close_nifty'\n",
    "stats.probplot(covid_data['Log_Return_Close_cac'].dropna(), dist=\"norm\", plot=plt)\n",
    "plt.title('Q-Q Plot for Log Returns of Close_cac')\n",
    "plt.show()\n",
    "\n",
    "# Plot Q-Q plot for 'Log_Return_Brent_INR'\n",
    "stats.probplot(covid_data['Log_Return_Brent_Euro'].dropna(), dist=\"norm\", plot=plt)\n",
    "plt.title('Q-Q Plot for Log Returns of Brent_EurO')\n",
    "plt.show()"
   ]
  },
  {
   "cell_type": "code",
   "execution_count": 23,
   "id": "15714c79",
   "metadata": {},
   "outputs": [],
   "source": [
    "import pandas as pd\n",
    "import numpy as np\n",
    "from statsmodels.tsa.stattools import adfuller, kpss\n",
    "# Augmented Dickey-Fuller Test\n",
    "def adf_test(series, title=''):\n",
    "    print(f'Augmented Dickey-Fuller Test: {title}')\n",
    "    result = adfuller(series, autolag='AIC')\n",
    "    labels = ['ADF Statistic', 'p-value', '#Lags Used', 'Number of Observations Used']\n",
    "    out = pd.Series(result[:4], index=labels)\n",
    "    for key, value in result[4].items():\n",
    "        out[f'Critical Value ({key})'] = value\n",
    "    print(out)\n",
    "    print('')\n",
    "\n",
    "# KPSS Test\n",
    "def kpss_test(series, title=''):\n",
    "    print(f'KPSS Test: {title}')\n",
    "    result = kpss(series, regression='c', nlags=\"auto\")\n",
    "    labels = ['KPSS Statistic', 'p-value', 'Lags Used']\n",
    "    out = pd.Series(result[:3], index=labels)\n",
    "    for key, value in result[3].items():\n",
    "        out[f'Critical Value ({key})'] = value\n",
    "    print(out)\n",
    "    print('')"
   ]
  },
  {
   "cell_type": "code",
   "execution_count": 24,
   "id": "31670bda",
   "metadata": {},
   "outputs": [
    {
     "name": "stdout",
     "output_type": "stream",
     "text": [
      "Augmented Dickey-Fuller Test: Log Return Close_cac\n",
      "ADF Statistic                 -6.716152e+00\n",
      "p-value                        3.577820e-09\n",
      "#Lags Used                     1.700000e+01\n",
      "Number of Observations Used    4.960000e+02\n",
      "Critical Value (1%)           -3.443603e+00\n",
      "Critical Value (5%)           -2.867385e+00\n",
      "Critical Value (10%)          -2.569883e+00\n",
      "dtype: float64\n",
      "\n",
      "KPSS Test: Log Return Close_cac\n",
      "KPSS Statistic           0.075297\n",
      "p-value                  0.100000\n",
      "Lags Used                7.000000\n",
      "Critical Value (10%)     0.347000\n",
      "Critical Value (5%)      0.463000\n",
      "Critical Value (2.5%)    0.574000\n",
      "Critical Value (1%)      0.739000\n",
      "dtype: float64\n",
      "\n",
      "Augmented Dickey-Fuller Test: Log Return Brent_Euro\n",
      "ADF Statistic                   -5.124866\n",
      "p-value                          0.000012\n",
      "#Lags Used                      16.000000\n",
      "Number of Observations Used    497.000000\n",
      "Critical Value (1%)             -3.443576\n",
      "Critical Value (5%)             -2.867373\n",
      "Critical Value (10%)            -2.569877\n",
      "dtype: float64\n",
      "\n",
      "KPSS Test: Log Return Brent_Euro\n",
      "KPSS Statistic           0.120868\n",
      "p-value                  0.100000\n",
      "Lags Used                0.000000\n",
      "Critical Value (10%)     0.347000\n",
      "Critical Value (5%)      0.463000\n",
      "Critical Value (2.5%)    0.574000\n",
      "Critical Value (1%)      0.739000\n",
      "dtype: float64\n",
      "\n"
     ]
    },
    {
     "name": "stderr",
     "output_type": "stream",
     "text": [
      "C:\\anaconda\\lib\\site-packages\\statsmodels\\tsa\\stattools.py:2022: InterpolationWarning: The test statistic is outside of the range of p-values available in the\n",
      "look-up table. The actual p-value is greater than the p-value returned.\n",
      "\n",
      "  warnings.warn(\n",
      "C:\\anaconda\\lib\\site-packages\\statsmodels\\tsa\\stattools.py:2022: InterpolationWarning: The test statistic is outside of the range of p-values available in the\n",
      "look-up table. The actual p-value is greater than the p-value returned.\n",
      "\n",
      "  warnings.warn(\n"
     ]
    }
   ],
   "source": [
    "# Perform ADF test for Close_nifty log returns\n",
    "adf_test(covid_data['Log_Return_Close_cac'], title='Log Return Close_cac')\n",
    "\n",
    "# Perform KPSS test for Close_nifty log returns\n",
    "kpss_test(covid_data['Log_Return_Close_cac'], title='Log Return Close_cac')\n",
    "\n",
    "# Perform ADF test for Brent_INR log returns\n",
    "adf_test(covid_data['Log_Return_Brent_Euro'], title='Log Return Brent_Euro')\n",
    "\n",
    "# Perform KPSS test for Brent_INR log returns\n",
    "kpss_test(covid_data['Log_Return_Brent_Euro'], title='Log Return Brent_Euro')"
   ]
  },
  {
   "cell_type": "code",
   "execution_count": 25,
   "id": "096268aa",
   "metadata": {},
   "outputs": [],
   "source": [
    "#Stationary data"
   ]
  },
  {
   "cell_type": "code",
   "execution_count": 27,
   "id": "147bab68",
   "metadata": {},
   "outputs": [],
   "source": [
    "# Rescale the log returns\n",
    "covid_data['Log_Return_Close_cac_scaled'] = covid_data['Log_Return_Close_cac'] * 100\n",
    "covid_data['Log_Return_Brent_Euro_scaled'] = covid_data['Log_Return_Brent_Euro'] * 100"
   ]
  },
  {
   "cell_type": "code",
   "execution_count": 28,
   "id": "c8fbaf41",
   "metadata": {},
   "outputs": [
    {
     "name": "stdout",
     "output_type": "stream",
     "text": [
      "                        Constant Mean - GJR-GARCH Model Results                        \n",
      "=======================================================================================\n",
      "Dep. Variable:     Log_Return_Close_cac_scaled   R-squared:                       0.000\n",
      "Mean Model:                      Constant Mean   Adj. R-squared:                  0.000\n",
      "Vol Model:                           GJR-GARCH   Log-Likelihood:               -833.700\n",
      "Distribution:                           Normal   AIC:                           1677.40\n",
      "Method:                     Maximum Likelihood   BIC:                           1698.61\n",
      "                                                 No. Observations:                  514\n",
      "Date:                         Tue, Jun 04 2024   Df Residuals:                      513\n",
      "Time:                                 17:33:22   Df Model:                            1\n",
      "                                 Mean Model                                \n",
      "===========================================================================\n",
      "                 coef    std err          t      P>|t|     95.0% Conf. Int.\n",
      "---------------------------------------------------------------------------\n",
      "mu             0.0418  4.507e-02      0.928      0.354 [-4.653e-02,  0.130]\n",
      "                               Volatility Model                              \n",
      "=============================================================================\n",
      "                 coef    std err          t      P>|t|       95.0% Conf. Int.\n",
      "-----------------------------------------------------------------------------\n",
      "omega          0.0343  3.160e-02      1.085      0.278 [-2.766e-02,9.623e-02]\n",
      "alpha[1]       0.0000  5.512e-02      0.000      1.000      [ -0.108,  0.108]\n",
      "gamma[1]       0.0740  4.790e-02      1.545      0.122   [-1.988e-02,  0.168]\n",
      "beta[1]        0.9323  5.365e-02     17.377  1.238e-67      [  0.827,  1.037]\n",
      "=============================================================================\n",
      "\n",
      "Covariance estimator: robust\n",
      "                        Constant Mean - GJR-GARCH Model Results                         \n",
      "========================================================================================\n",
      "Dep. Variable:     Log_Return_Brent_Euro_scaled   R-squared:                       0.000\n",
      "Mean Model:                       Constant Mean   Adj. R-squared:                  0.000\n",
      "Vol Model:                            GJR-GARCH   Log-Likelihood:               -1248.85\n",
      "Distribution:                            Normal   AIC:                           2507.71\n",
      "Method:                      Maximum Likelihood   BIC:                           2528.92\n",
      "                                                  No. Observations:                  514\n",
      "Date:                          Tue, Jun 04 2024   Df Residuals:                      513\n",
      "Time:                                  17:33:22   Df Model:                            1\n",
      "                                Mean Model                                \n",
      "==========================================================================\n",
      "                 coef    std err          t      P>|t|    95.0% Conf. Int.\n",
      "--------------------------------------------------------------------------\n",
      "mu             0.2457      0.105      2.336  1.948e-02 [3.957e-02,  0.452]\n",
      "                             Volatility Model                             \n",
      "==========================================================================\n",
      "                 coef    std err          t      P>|t|    95.0% Conf. Int.\n",
      "--------------------------------------------------------------------------\n",
      "omega          0.2805      0.110      2.555  1.063e-02 [6.528e-02,  0.496]\n",
      "alpha[1]   3.1895e-12  7.313e-02  4.361e-11      1.000   [ -0.143,  0.143]\n",
      "gamma[1]       0.2153  9.038e-02      2.382  1.720e-02 [3.817e-02,  0.392]\n",
      "beta[1]        0.8516  5.901e-02     14.432  3.251e-47   [  0.736,  0.967]\n",
      "==========================================================================\n",
      "\n",
      "Covariance estimator: robust\n"
     ]
    }
   ],
   "source": [
    "from arch import arch_model\n",
    "# Refit the models with the rescaled data\n",
    "model_close_cac_scaled = arch_model(covid_data['Log_Return_Close_cac_scaled'], vol='Garch', p=1, o=1, q=1)\n",
    "results_close_cac_scaled = model_close_cac_scaled.fit(disp='off')\n",
    "print(results_close_cac_scaled.summary())\n",
    "\n",
    "\n",
    "from arch import arch_model\n",
    "model_brent_Euro_scaled = arch_model(covid_data['Log_Return_Brent_Euro_scaled'], vol='Garch', p=1, o=1, q=1)\n",
    "results_brent_Euro_scaled = model_brent_Euro_scaled.fit(disp='off')\n",
    "print(results_brent_Euro_scaled.summary())"
   ]
  },
  {
   "cell_type": "code",
   "execution_count": null,
   "id": "77fa2570",
   "metadata": {},
   "outputs": [],
   "source": []
  },
  {
   "cell_type": "code",
   "execution_count": 29,
   "id": "d8cc473c",
   "metadata": {},
   "outputs": [],
   "source": [
    "# # Plot the standardized residuals\n",
    "# plt.figure(figsize=(10, 6))\n",
    "# plt.plot(results_close_sp_scaled.resid / results_close_sp_scaled.conditional_volatility)\n",
    "# plt.title('Standardized Residuals - Close sp')\n",
    "# plt.show()\n",
    "\n",
    "# plt.figure(figsize=(10, 6))\n",
    "# plt.plot(results_brent_Crude_scaled.resid / results_brent_Crude_scaled.conditional_volatility)\n",
    "# plt.title('Standardized Residuals - Brent Crude')\n",
    "# plt.show()"
   ]
  },
  {
   "cell_type": "code",
   "execution_count": 30,
   "id": "dde2be58",
   "metadata": {},
   "outputs": [],
   "source": [
    "# Assuming `results` is the fitted GJR-GARCH model for Close_nifty\n",
    "standardized_residuals_cac = results_close_cac_scaled.resid / results_close_cac_scaled.conditional_volatility\n",
    "\n",
    "# Assuming `results_brent` is the fitted GJR-GARCH model for Brent_INR\n",
    "standardized_residuals_brent = results_brent_Euro_scaled.resid / results_brent_Euro_scaled.conditional_volatility\n"
   ]
  },
  {
   "cell_type": "code",
   "execution_count": 31,
   "id": "59ffb614",
   "metadata": {},
   "outputs": [
    {
     "data": {
      "text/plain": [
       "<AxesSubplot:ylabel='Density'>"
      ]
     },
     "execution_count": 31,
     "metadata": {},
     "output_type": "execute_result"
    },
    {
     "data": {
      "image/png": "[encoded data removed]",
      "text/plain": [
       "<Figure size 432x288 with 1 Axes>"
      ]
     },
     "metadata": {
      "needs_background": "light"
     },
     "output_type": "display_data"
    }
   ],
   "source": [
    "sns.histplot(standardized_residuals_cac, kde=True, stat=\"density\", linewidth=0)"
   ]
  },
  {
   "cell_type": "code",
   "execution_count": 32,
   "id": "cdf7c5b9",
   "metadata": {},
   "outputs": [
    {
     "data": {
      "text/plain": [
       "<AxesSubplot:ylabel='Density'>"
      ]
     },
     "execution_count": 32,
     "metadata": {},
     "output_type": "execute_result"
    },
    {
     "data": {
      "image/png": "[encoded data removed]",
      "text/plain": [
       "<Figure size 432x288 with 1 Axes>"
      ]
     },
     "metadata": {
      "needs_background": "light"
     },
     "output_type": "display_data"
    }
   ],
   "source": [
    "sns.histplot(standardized_residuals_brent, kde=True, stat=\"density\", linewidth=0)"
   ]
  },
  {
   "cell_type": "code",
   "execution_count": 33,
   "id": "c51011a6",
   "metadata": {},
   "outputs": [],
   "source": [
    "# Creating a DataFrame for easy handling\n",
    "standardized_residuals = pd.DataFrame({\n",
    "    'cac': standardized_residuals_cac,\n",
    "    'Brent': standardized_residuals_brent\n",
    "})"
   ]
  },
  {
   "cell_type": "code",
   "execution_count": 34,
   "id": "8a73efa1",
   "metadata": {},
   "outputs": [
    {
     "name": "stdout",
     "output_type": "stream",
     "text": [
      "Shapiro-Wilk test for cac:\n",
      "Test Statistic: 0.9459035979751992\n",
      "p-value: 9.420758783409021e-13\n",
      "\n",
      "Shapiro-Wilk test for Brent:\n",
      "Test Statistic: 0.9228573788503645\n",
      "p-value: 1.4290070923534078e-15\n"
     ]
    }
   ],
   "source": [
    "from scipy.stats import shapiro\n",
    "\n",
    "# Perform Shapiro-Wilk test for sp\n",
    "shapiro_sp = shapiro(standardized_residuals['cac'])\n",
    "print(\"Shapiro-Wilk test for cac:\")\n",
    "print(\"Test Statistic:\", shapiro_sp[0])\n",
    "print(\"p-value:\", shapiro_sp[1])\n",
    "\n",
    "# Perform Shapiro-Wilk test for Brent\n",
    "shapiro_brent = shapiro(standardized_residuals['Brent'])\n",
    "print(\"\\nShapiro-Wilk test for Brent:\")\n",
    "print(\"Test Statistic:\", shapiro_brent[0])\n",
    "print(\"p-value:\", shapiro_brent[1])"
   ]
  },
  {
   "cell_type": "code",
   "execution_count": null,
   "id": "c6342315",
   "metadata": {},
   "outputs": [],
   "source": []
  },
  {
   "cell_type": "code",
   "execution_count": 35,
   "id": "3f5b2af1",
   "metadata": {},
   "outputs": [],
   "source": [
    "import numpy as np\n",
    "import pandas as pd\n",
    "import matplotlib.pyplot as plt\n",
    "from scipy.stats import gaussian_kde, genpareto\n",
    "from statsmodels.distributions.empirical_distribution import ECDF"
   ]
  },
  {
   "cell_type": "code",
   "execution_count": 36,
   "id": "fa4bf5e9",
   "metadata": {},
   "outputs": [
    {
     "data": {
      "image/png": "[encoded data removed]",
      "text/plain": [
       "<Figure size 864x432 with 1 Axes>"
      ]
     },
     "metadata": {
      "needs_background": "light"
     },
     "output_type": "display_data"
    }
   ],
   "source": [
    "kde_cac = gaussian_kde(standardized_residuals['cac'])\n",
    "kde_brent = gaussian_kde(standardized_residuals['Brent'])\n",
    "\n",
    "# Plot the KDE\n",
    "x_grid_cac = np.linspace(standardized_residuals['cac'].min(), standardized_residuals['cac'].max(), 1000)\n",
    "x_grid_brent = np.linspace(standardized_residuals['Brent'].min(), standardized_residuals['Brent'].max(), 1000)\n",
    "\n",
    "plt.figure(figsize=(12, 6))\n",
    "plt.plot(x_grid_cac, kde_cac(x_grid_cac), label='cac KDE')\n",
    "plt.plot(x_grid_brent, kde_brent(x_grid_brent), label='Brent KDE')\n",
    "plt.title('Kernel Density Estimation')\n",
    "plt.legend()\n",
    "plt.show()"
   ]
  },
  {
   "cell_type": "code",
   "execution_count": 37,
   "id": "2f39f996",
   "metadata": {},
   "outputs": [],
   "source": [
    "upper_threshold_cac = np.percentile(standardized_residuals['cac'], 90)\n",
    "lower_threshold_cac = np.percentile(standardized_residuals['cac'], 10)\n",
    "upper_threshold_brent = np.percentile(standardized_residuals['Brent'], 90)\n",
    "lower_threshold_brent = np.percentile(standardized_residuals['Brent'], 10)"
   ]
  },
  {
   "cell_type": "code",
   "execution_count": 38,
   "id": "fd43d976",
   "metadata": {},
   "outputs": [],
   "source": [
    "cac_upper_tail = standardized_residuals['cac'][standardized_residuals['cac'] > upper_threshold_cac] - upper_threshold_cac\n",
    "cac_lower_tail = -standardized_residuals['cac'][standardized_residuals['cac'] < lower_threshold_cac] + lower_threshold_cac\n",
    "brent_upper_tail = standardized_residuals['Brent'][standardized_residuals['Brent'] > upper_threshold_brent] - upper_threshold_brent\n",
    "brent_lower_tail = -standardized_residuals['Brent'][standardized_residuals['Brent'] < lower_threshold_brent] + lower_threshold_brent"
   ]
  },
  {
   "cell_type": "code",
   "execution_count": 39,
   "id": "5005eb0e",
   "metadata": {},
   "outputs": [],
   "source": [
    "# Fit GPD to the tails\n",
    "params_cac_upper = genpareto.fit(cac_upper_tail)\n",
    "params_cac_lower = genpareto.fit(cac_lower_tail)\n",
    "params_brent_upper = genpareto.fit(brent_upper_tail)\n",
    "params_brent_lower = genpareto.fit(brent_lower_tail)"
   ]
  },
  {
   "cell_type": "code",
   "execution_count": 40,
   "id": "c68c7866",
   "metadata": {},
   "outputs": [],
   "source": [
    "from statsmodels.distributions.empirical_distribution import ECDF\n",
    "\n",
    "# Compute empirical CDF\n",
    "ecdf_cac = ECDF(standardized_residuals['cac'])\n",
    "ecdf_brent = ECDF(standardized_residuals['Brent'])"
   ]
  },
  {
   "cell_type": "code",
   "execution_count": 41,
   "id": "928ae866",
   "metadata": {},
   "outputs": [],
   "source": [
    "# Function to compute combined CDF\n",
    "def combined_cdf(x, ecdf, upper_threshold, lower_threshold, params_upper, params_lower):\n",
    "    c_u, loc_u, scale_u = params_upper\n",
    "    c_l, loc_l, scale_l = params_lower\n",
    "    if x <= lower_threshold:\n",
    "        return ecdf(lower_threshold) * genpareto.cdf(-x + lower_threshold, c_l, loc_l, scale_l)\n",
    "    elif x <= upper_threshold:\n",
    "        return ecdf(x)\n",
    "    else:\n",
    "        return ecdf(upper_threshold) + (1 - ecdf(upper_threshold)) * genpareto.cdf(x - upper_threshold, c_u, loc_u, scale_u)\n"
   ]
  },
  {
   "cell_type": "code",
   "execution_count": 42,
   "id": "2f533c96",
   "metadata": {},
   "outputs": [],
   "source": [
    "cdf_cac = [combined_cdf(x, ecdf_cac, upper_threshold_cac, lower_threshold_cac, params_cac_upper, params_cac_lower) for x in standardized_residuals['cac']]\n",
    "cdf_brent = [combined_cdf(x, ecdf_brent, upper_threshold_brent, lower_threshold_brent, params_brent_upper, params_brent_lower) for x in standardized_residuals['Brent']]"
   ]
  },
  {
   "cell_type": "code",
   "execution_count": 43,
   "id": "3a8ca4a6",
   "metadata": {},
   "outputs": [
    {
     "data": {
      "image/png": "[encoded data removed]",
      "text/plain": [
       "<Figure size 864x432 with 1 Axes>"
      ]
     },
     "metadata": {
      "needs_background": "dark"
     },
     "output_type": "display_data"
    }
   ],
   "source": [
    "plt.figure(figsize=(12, 6))\n",
    "plt.plot(standardized_residuals['cac'], cdf_cac, label='cac CDF', color='blue')\n",
    "plt.plot(standardized_residuals['Brent'], cdf_brent, label='Brent CDF', color='red')\n",
    "plt.title('Combined CDF with EVT-GPD Tails', color='white')\n",
    "plt.legend()\n",
    "plt.xlabel('Standardized Residuals', color='white')\n",
    "plt.ylabel('CDF', color='white')\n",
    "plt.xticks(color='white')\n",
    "plt.yticks(color='white')\n",
    "plt.gca().set_facecolor('white')  # Set background color to white\n",
    "plt.grid(color='gray', linestyle='--', linewidth=0.5)  # Add grid lines\n",
    "plt.show()"
   ]
  },
  {
   "cell_type": "code",
   "execution_count": 44,
   "id": "47751abf",
   "metadata": {},
   "outputs": [],
   "source": [
    "# Convert the CDF values to a uniform distribution for copula modeling\n",
    "uniform_cac = np.array(cdf_cac)\n",
    "uniform_brent = np.array(cdf_brent)"
   ]
  },
  {
   "cell_type": "code",
   "execution_count": 45,
   "id": "97de5011",
   "metadata": {},
   "outputs": [],
   "source": [
    "# Create a DataFrame from the uniform distributions\n",
    "uniform_data = pd.DataFrame({\n",
    "    'Uniform_cac': uniform_cac,\n",
    "    'Uniform_Brent': uniform_brent\n",
    "})"
   ]
  },
  {
   "cell_type": "code",
   "execution_count": 46,
   "id": "15f62162",
   "metadata": {},
   "outputs": [
    {
     "name": "stdout",
     "output_type": "stream",
     "text": [
      "Uniform distributions saved to C:\\Users\\KASHISH NIGAM\\Desktop\\Last Sem Project\\Final Datasets\\France\\uniform_distributions-During_Covid_France.xlsx\n"
     ]
    }
   ],
   "source": [
    "# Define the output file path\n",
    "output_file = r'C:\\Users\\KASHISH NIGAM\\Desktop\\Last Sem Project\\Final Datasets\\France\\uniform_distributions-During_Covid_France.xlsx'\n",
    "\n",
    "# Save the DataFrame to an Excel file\n",
    "uniform_data.to_excel(output_file, index=False)\n",
    "\n",
    "print(f\"Uniform distributions saved to {output_file}\")"
   ]
  },
  {
   "cell_type": "code",
   "execution_count": null,
   "id": "a0c168a7",
   "metadata": {},
   "outputs": [],
   "source": []
  }
 ],
 "metadata": {
  "kernelspec": {
   "display_name": "Python 3 (ipykernel)",
   "language": "python",
   "name": "python3"
  },
  "language_info": {
   "codemirror_mode": {
    "name": "ipython",
    "version": 3
   },
   "file_extension": ".py",
   "mimetype": "text/x-python",
   "name": "python",
   "nbconvert_exporter": "python",
   "pygments_lexer": "ipython3",
   "version": "3.9.12"
  }
 },
 "nbformat": 4,
 "nbformat_minor": 5
}
