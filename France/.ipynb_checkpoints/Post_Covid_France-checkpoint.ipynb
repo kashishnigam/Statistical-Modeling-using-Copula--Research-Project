{
 "cells": [
  {
   "cell_type": "code",
   "execution_count": 1,
   "id": "1324b547",
   "metadata": {},
   "outputs": [],
   "source": [
    "import pandas as pd\n",
    "from statsmodels.tsa.stattools import adfuller\n",
    "import matplotlib.pyplot as plt\n",
    "import numpy as np\n",
    "from scipy.stats import rankdata, genpareto\n",
    "from statsmodels.nonparametric.kde import KDEUnivariate\n",
    "from statsmodels.stats.diagnostic import acorr_ljungbox\n",
    "import seaborn as sns"
   ]
  },
  {
   "cell_type": "code",
   "execution_count": 2,
   "id": "8dd80d53",
   "metadata": {},
   "outputs": [],
   "source": [
    "df_cleaned = pd.read_excel(\"France_Brent.xlsx\")"
   ]
  },
  {
   "cell_type": "code",
   "execution_count": 3,
   "id": "f04402eb",
   "metadata": {},
   "outputs": [
    {
     "name": "stdout",
     "output_type": "stream",
     "text": [
      "Date          datetime64[ns]\n",
      "Close_cac            float64\n",
      "Brent_Euro           float64\n",
      "dtype: object\n"
     ]
    }
   ],
   "source": [
    "print(df_cleaned.dtypes)"
   ]
  },
  {
   "cell_type": "code",
   "execution_count": 4,
   "id": "7d1b340f",
   "metadata": {},
   "outputs": [
    {
     "name": "stdout",
     "output_type": "stream",
     "text": [
      "Date            0\n",
      "Close_cac     259\n",
      "Brent_Euro    277\n",
      "dtype: int64\n"
     ]
    }
   ],
   "source": [
    "missing_values = df_cleaned.isnull().sum()\n",
    "print(missing_values)"
   ]
  },
  {
   "cell_type": "code",
   "execution_count": 5,
   "id": "034a850e",
   "metadata": {},
   "outputs": [],
   "source": [
    "# Drop rows where both 'Close_cac' and 'Brent_Euro' are NaN\n",
    "df = df_cleaned.dropna(how='all', subset=['Close_cac', 'Brent_Euro'])"
   ]
  },
  {
   "cell_type": "code",
   "execution_count": 6,
   "id": "b9efda0b",
   "metadata": {},
   "outputs": [
    {
     "name": "stdout",
     "output_type": "stream",
     "text": [
      "Date           0\n",
      "Close_cac     11\n",
      "Brent_Euro    29\n",
      "dtype: int64\n"
     ]
    }
   ],
   "source": [
    "missing_values = df.isnull().sum()\n",
    "print(missing_values)"
   ]
  },
  {
   "cell_type": "code",
   "execution_count": 7,
   "id": "f1c3bcf7",
   "metadata": {},
   "outputs": [],
   "source": [
    "#Define the date ranges\n",
    "pre_covid_start = '2015-01-01'\n",
    "pre_covid_end = '2020-02-29'\n",
    "covid_start = '2020-03-01'\n",
    "covid_end = '2022-02-28'\n",
    "post_covid_start = '2022-03-01'\n",
    "post_covid_end = '2024-03-31'"
   ]
  },
  {
   "cell_type": "code",
   "execution_count": 8,
   "id": "9ae7a39c",
   "metadata": {},
   "outputs": [],
   "source": [
    "# Filter the data\n",
    "pre_covid_data = df[(df['Date'] >= pre_covid_start) & (df['Date'] <= pre_covid_end)]\n",
    "covid_data = df[(df['Date'] >= covid_start) & (df['Date'] <= covid_end)]\n",
    "post_covid_data = df[(df['Date'] >= post_covid_start) & (df['Date'] <= post_covid_end)]"
   ]
  },
  {
   "cell_type": "code",
   "execution_count": 9,
   "id": "50d76c35",
   "metadata": {},
   "outputs": [
    {
     "name": "stderr",
     "output_type": "stream",
     "text": [
      "C:\\Users\\KASHISH NIGAM\\AppData\\Local\\Temp\\ipykernel_17712\\2437016192.py:2: SettingWithCopyWarning: \n",
      "A value is trying to be set on a copy of a slice from a DataFrame\n",
      "\n",
      "See the caveats in the documentation: https://pandas.pydata.org/pandas-docs/stable/user_guide/indexing.html#returning-a-view-versus-a-copy\n",
      "  post_covid_data.fillna(method='ffill', inplace=True)\n"
     ]
    }
   ],
   "source": [
    "# Forward fill missing values\n",
    "post_covid_data.fillna(method='ffill', inplace=True)"
   ]
  },
  {
   "cell_type": "code",
   "execution_count": 10,
   "id": "4358a593",
   "metadata": {},
   "outputs": [
    {
     "name": "stderr",
     "output_type": "stream",
     "text": [
      "C:\\Users\\KASHISH NIGAM\\AppData\\Local\\Temp\\ipykernel_17712\\296158894.py:1: FutureWarning: Dropping of nuisance columns in DataFrame reductions (with 'numeric_only=None') is deprecated; in a future version this will raise TypeError.  Select only valid columns before calling the reduction.\n",
      "  post_covid_data.sum().isnull()\n"
     ]
    },
    {
     "data": {
      "text/plain": [
       "Close_cac     False\n",
       "Brent_Euro    False\n",
       "dtype: bool"
      ]
     },
     "execution_count": 10,
     "metadata": {},
     "output_type": "execute_result"
    }
   ],
   "source": [
    "post_covid_data.sum().isnull()"
   ]
  },
  {
   "cell_type": "code",
   "execution_count": 11,
   "id": "fefef3cf",
   "metadata": {},
   "outputs": [
    {
     "name": "stdout",
     "output_type": "stream",
     "text": [
      "ADF Test Results for Close_cac:\n",
      "ADF Statistic: -0.7086501161635158\n",
      "p-value: 0.8444962218181271\n",
      "Critical Values:\n",
      "   1%: -3.442678467240966\n",
      "   5%: -2.8669778698997543\n",
      "   10%: -2.5696661916864083\n",
      "\n",
      "ADF Test Results for Brent_Euro:\n",
      "ADF Statistic: -2.2071975413742315\n",
      "p-value: 0.20364354358637987\n",
      "Critical Values:\n",
      "   1%: -3.4427251295084678\n",
      "   5%: -2.8669984098683736\n",
      "   10%: -2.5696771375119254\n",
      "\n"
     ]
    }
   ],
   "source": [
    "time_series_columns = ['Close_cac', 'Brent_Euro']\n",
    "\n",
    "def adf_test(timeseries):\n",
    "    result = adfuller(timeseries, autolag='AIC')\n",
    "    print('ADF Statistic:', result[0])\n",
    "    print('p-value:', result[1])\n",
    "    print('Critical Values:')\n",
    "    for key, value in result[4].items():\n",
    "        print(f'   {key}: {value}')\n",
    "\n",
    "# Loop over each column and perform ADF test\n",
    "for column in time_series_columns:\n",
    "    print(f\"ADF Test Results for {column}:\")\n",
    "    adf_test(post_covid_data[column])\n",
    "    print()"
   ]
  },
  {
   "cell_type": "code",
   "execution_count": 12,
   "id": "8fa63810",
   "metadata": {},
   "outputs": [],
   "source": [
    "#The seris is non-sttionary"
   ]
  },
  {
   "cell_type": "code",
   "execution_count": 13,
   "id": "e3993370",
   "metadata": {},
   "outputs": [],
   "source": [
    "# from statsmodels.tsa.seasonal import seasonal_decompose\n",
    "# import matplotlib.pyplot as plt\n",
    "\n",
    "# # Decompose the time series\n",
    "# result = seasonal_decompose(post_covid_data['Close_sp'], model='additive', period=250)\n",
    "\n",
    "# # Plot the decomposed components\n",
    "# plt.figure(figsize=(12, 8))\n",
    "\n",
    "# plt.subplot(411)\n",
    "# plt.plot(post_covid_data['Close_sp'], label='Original', color='blue')\n",
    "# plt.legend(loc='upper left', facecolor='black', edgecolor='white', labelcolor='white')\n",
    "# plt.ylabel('Original', color='white')\n",
    "# plt.tick_params(axis='x', colors='white')\n",
    "# plt.tick_params(axis='y', colors='white')\n",
    "# plt.title('Time Series Decomposition', color='white')\n",
    "\n",
    "# plt.subplot(412)\n",
    "# plt.plot(result.trend, label='Trend', color='blue')\n",
    "# plt.legend(loc='upper left', facecolor='black', edgecolor='white', labelcolor='white')\n",
    "# plt.ylabel('Trend', color='white')\n",
    "# plt.tick_params(axis='x', colors='white')\n",
    "# plt.tick_params(axis='y', colors='white')\n",
    "\n",
    "# plt.subplot(413)\n",
    "# plt.plot(result.seasonal, label='Seasonal', color='blue')\n",
    "# plt.legend(loc='upper left', facecolor='black', edgecolor='white', labelcolor='white')\n",
    "# plt.ylabel('Seasonal', color='white')\n",
    "# plt.tick_params(axis='x', colors='white')\n",
    "# plt.tick_params(axis='y', colors='white')\n",
    "\n",
    "# plt.subplot(414)\n",
    "# plt.plot(result.resid, label='Residual', color='blue')\n",
    "# plt.legend(loc='upper left', facecolor='black', edgecolor='white', labelcolor='white')\n",
    "# plt.ylabel('Residual', color='white')\n",
    "# plt.tick_params(axis='x', colors='white')\n",
    "# plt.tick_params(axis='y', colors='white')\n",
    "# plt.xlabel('Date', color='white')\n",
    "\n",
    "# plt.tight_layout()\n",
    "# plt.show()\n",
    "\n",
    "\n",
    "# import matplotlib.pyplot as plt\n",
    "# from statsmodels.tsa.seasonal import seasonal_decompose\n",
    "\n",
    "# # Decompose the time series\n",
    "# result = seasonal_decompose(post_covid_data['Brent_Crude'], model='additive', period=250)\n",
    "\n",
    "# # Plot the decomposed components\n",
    "# plt.figure(figsize=(12, 8))\n",
    "\n",
    "# plt.subplot(411)\n",
    "# plt.plot(post_covid_data['Brent_Crude'], label='Original', color='blue')\n",
    "# plt.legend(loc='upper left', facecolor='black', edgecolor='white', labelcolor='white')\n",
    "# plt.ylabel('Original', color='white')\n",
    "# plt.tick_params(axis='x', colors='white')\n",
    "# plt.tick_params(axis='y', colors='white')\n",
    "# plt.title('Time Series Decomposition', color='white')\n",
    "\n",
    "# plt.subplot(412)\n",
    "# plt.plot(result.trend, label='Trend', color='blue')\n",
    "# plt.legend(loc='upper left', facecolor='black', edgecolor='white', labelcolor='white')\n",
    "# plt.ylabel('Trend', color='white')\n",
    "# plt.tick_params(axis='x', colors='white')\n",
    "# plt.tick_params(axis='y', colors='white')\n",
    "\n",
    "# plt.subplot(413)\n",
    "# plt.plot(result.seasonal, label='Seasonal', color='blue')\n",
    "# plt.legend(loc='upper left', facecolor='black', edgecolor='white', labelcolor='white')\n",
    "# plt.ylabel('Seasonal', color='white')\n",
    "# plt.tick_params(axis='x', colors='white')\n",
    "# plt.tick_params(axis='y', colors='white')\n",
    "\n",
    "# plt.subplot(414)\n",
    "# plt.plot(result.resid, label='Residual', color='blue')\n",
    "# plt.legend(loc='upper left', facecolor='black', edgecolor='white', labelcolor='white')\n",
    "# plt.ylabel('Residual', color='white')\n",
    "# plt.tick_params(axis='x', colors='white')\n",
    "# plt.tick_params(axis='y', colors='white')\n",
    "# plt.xlabel('Date', color='white')\n",
    "\n",
    "# plt.tight_layout()\n",
    "# plt.show()"
   ]
  },
  {
   "cell_type": "code",
   "execution_count": 14,
   "id": "56ab485f",
   "metadata": {},
   "outputs": [
    {
     "name": "stdout",
     "output_type": "stream",
     "text": [
      "         Close_cac  Brent_Euro\n",
      "count   534.000000  534.000000\n",
      "mean   6928.900233   84.866474\n",
      "std     577.609919   14.002662\n",
      "min    5676.870117   65.519663\n",
      "25%    6469.614868   75.003149\n",
      "50%    7077.135010   79.460135\n",
      "75%    7343.912476   91.571715\n",
      "max    8205.809570  126.667232\n"
     ]
    }
   ],
   "source": [
    "summary = post_covid_data.describe()\n",
    "print(summary)"
   ]
  },
  {
   "cell_type": "code",
   "execution_count": 15,
   "id": "a2a3832b",
   "metadata": {},
   "outputs": [],
   "source": [
    "# import matplotlib.pyplot as plt\n",
    "\n",
    "# # Plot histogram for 'Close_sp'\n",
    "# plt.figure(figsize=(8, 6))\n",
    "# plt.hist(post_covid_data['Close_sp'], bins=30, color='blue', edgecolor='black', alpha=0.7)\n",
    "\n",
    "# # Add labels and title\n",
    "# plt.xlabel('Close_sp', color='white')\n",
    "# plt.ylabel('Frequency', color='white')\n",
    "# plt.title('Histogram of Close_sp', color='white')\n",
    "\n",
    "# # Customize tick parameters to be white\n",
    "# plt.tick_params(axis='x', colors='white')\n",
    "# plt.tick_params(axis='y', colors='white')\n",
    "\n",
    "# # Show grid and plot\n",
    "# plt.grid(True)\n",
    "# plt.tight_layout()\n",
    "# plt.show()\n",
    "\n",
    "# # Plot histogram for 'Brent_Crude'\n",
    "# plt.figure(figsize=(8, 6))\n",
    "# plt.hist(post_covid_data['Brent_Crude'], bins=30, color='blue', edgecolor='black', alpha=0.7)\n",
    "\n",
    "# # Add labels and title\n",
    "# plt.xlabel('Brent_Crude', color='white')\n",
    "# plt.ylabel('Frequency', color='white')\n",
    "# plt.title('Histogram of Brent_Crude', color='white')\n",
    "\n",
    "# # Customize tick parameters to be white\n",
    "# plt.tick_params(axis='x', colors='white')\n",
    "# plt.tick_params(axis='y', colors='white')\n",
    "\n",
    "# # Show grid and plot\n",
    "# plt.grid(True)\n",
    "# plt.tight_layout()\n",
    "# plt.show()"
   ]
  },
  {
   "cell_type": "code",
   "execution_count": 16,
   "id": "613ff07e",
   "metadata": {},
   "outputs": [],
   "source": [
    "post_covid_data = post_covid_data.copy()\n",
    "post_covid_data['Log_Return_Close_cac'] = np.log(post_covid_data['Close_cac'] / post_covid_data['Close_cac'].shift(1))\n",
    "post_covid_data['Log_Return_Brent_Euro'] = np.log(post_covid_data['Brent_Euro'] / post_covid_data['Brent_Euro'].shift(1))"
   ]
  },
  {
   "cell_type": "code",
   "execution_count": 17,
   "id": "344551e9",
   "metadata": {},
   "outputs": [
    {
     "name": "stdout",
     "output_type": "stream",
     "text": [
      "Date                     0\n",
      "Close_cac                0\n",
      "Brent_Euro               0\n",
      "Log_Return_Close_cac     1\n",
      "Log_Return_Brent_Euro    1\n",
      "dtype: int64\n"
     ]
    }
   ],
   "source": [
    "missing_values = post_covid_data.isnull().sum()\n",
    "print(missing_values)"
   ]
  },
  {
   "cell_type": "code",
   "execution_count": 18,
   "id": "c54a3ed0",
   "metadata": {},
   "outputs": [],
   "source": [
    "post_covid_data = post_covid_data.dropna()"
   ]
  },
  {
   "cell_type": "code",
   "execution_count": 19,
   "id": "9c07ceb8",
   "metadata": {},
   "outputs": [
    {
     "name": "stdout",
     "output_type": "stream",
     "text": [
      "Date                     0\n",
      "Close_cac                0\n",
      "Brent_Euro               0\n",
      "Log_Return_Close_cac     0\n",
      "Log_Return_Brent_Euro    0\n",
      "dtype: int64\n"
     ]
    }
   ],
   "source": [
    "missing_values = post_covid_data.isnull().sum()\n",
    "print(missing_values)"
   ]
  },
  {
   "cell_type": "code",
   "execution_count": 21,
   "id": "5812ba6c",
   "metadata": {},
   "outputs": [
    {
     "name": "stdout",
     "output_type": "stream",
     "text": [
      "                              Mean         Max          Min          SD  \\\n",
      "Date                           N/A         N/A          N/A         N/A   \n",
      "Close_cac              6929.899126  8205.80957  5676.870117  577.690686   \n",
      "Brent_Euro               84.827751  126.667232    65.519663    13.98717   \n",
      "Log_Return_Close_cac      0.000467    0.068828    -0.050929    0.010753   \n",
      "Log_Return_Brent_Euro    -0.000528    0.081564    -0.133124    0.024962   \n",
      "\n",
      "                           Skew Ex. Kurt.         J–B  \n",
      "Date                        N/A       N/A         N/A  \n",
      "Close_cac             -0.145239 -0.786019   15.594765  \n",
      "Brent_Euro              1.02209  0.085848   92.964932  \n",
      "Log_Return_Close_cac   0.205383  4.455117   444.53961  \n",
      "Log_Return_Brent_Euro -0.514106  2.187448  129.744396  \n"
     ]
    }
   ],
   "source": [
    "import pandas as pd\n",
    "from scipy.stats import skew, kurtosis, jarque_bera\n",
    "\n",
    "# Create a summary statistics DataFrame for post_covid_data\n",
    "summary_stats = pd.DataFrame(index=post_covid_data.columns, columns=['Mean', 'Max', 'Min', 'SD', 'Skew', 'Ex. Kurt.', 'J–B'])\n",
    "\n",
    "for col in post_covid_data.columns:\n",
    "    if pd.api.types.is_numeric_dtype(post_covid_data[col]):\n",
    "        summary_stats.at[col, 'Mean'] = post_covid_data[col].mean()\n",
    "        summary_stats.at[col, 'Max'] = post_covid_data[col].max()\n",
    "        summary_stats.at[col, 'Min'] = post_covid_data[col].min()\n",
    "        summary_stats.at[col, 'SD'] = post_covid_data[col].std()\n",
    "        summary_stats.at[col, 'Skew'] = skew(post_covid_data[col])\n",
    "        summary_stats.at[col, 'Ex. Kurt.'] = kurtosis(post_covid_data[col], fisher=True)\n",
    "        jb_stat, jb_p_value = jarque_bera(post_covid_data[col])\n",
    "        summary_stats.at[col, 'J–B'] = jb_stat\n",
    "    else:\n",
    "        summary_stats.at[col, 'Mean'] = 'N/A'\n",
    "        summary_stats.at[col, 'Max'] = 'N/A'\n",
    "        summary_stats.at[col, 'Min'] = 'N/A'\n",
    "        summary_stats.at[col, 'SD'] = 'N/A'\n",
    "        summary_stats.at[col, 'Skew'] = 'N/A'\n",
    "        summary_stats.at[col, 'Ex. Kurt.'] = 'N/A'\n",
    "        summary_stats.at[col, 'J–B'] = 'N/A'\n",
    "\n",
    "# Round the summary statistics to 6 decimal places, except for 'N/A' values\n",
    "summary_stats = summary_stats.applymap(lambda x: round(x, 6) if isinstance(x, (int, float)) else x)\n",
    "print(summary_stats)"
   ]
  },
  {
   "cell_type": "code",
   "execution_count": null,
   "id": "a5500dcd",
   "metadata": {},
   "outputs": [],
   "source": []
  },
  {
   "cell_type": "code",
   "execution_count": null,
   "id": "4f3fa070",
   "metadata": {},
   "outputs": [],
   "source": []
  },
  {
   "cell_type": "code",
   "execution_count": 20,
   "id": "8fea04fd",
   "metadata": {},
   "outputs": [
    {
     "data": {
      "image/png": "[encoded data removed]",
      "text/plain": [
       "<Figure size 432x288 with 1 Axes>"
      ]
     },
     "metadata": {
      "needs_background": "light"
     },
     "output_type": "display_data"
    },
    {
     "data": {
      "image/png": "[encoded data removed]",
      "text/plain": [
       "<Figure size 432x288 with 1 Axes>"
      ]
     },
     "metadata": {
      "needs_background": "light"
     },
     "output_type": "display_data"
    }
   ],
   "source": [
    "import scipy.stats as stats\n",
    "# Plot Q-Q plot for 'Log_Return_Close_nifty'\n",
    "stats.probplot(post_covid_data['Log_Return_Close_cac'].dropna(), dist=\"norm\", plot=plt)\n",
    "plt.title('Q-Q Plot for Log Returns of Close_cac')\n",
    "plt.show()\n",
    "\n",
    "# Plot Q-Q plot for 'Log_Return_Brent_INR'\n",
    "stats.probplot(post_covid_data['Log_Return_Brent_Euro'].dropna(), dist=\"norm\", plot=plt)\n",
    "plt.title('Q-Q Plot for Log Returns of Brent_Euro')\n",
    "plt.show()"
   ]
  },
  {
   "cell_type": "code",
   "execution_count": 23,
   "id": "8e1b19df",
   "metadata": {},
   "outputs": [],
   "source": [
    "import pandas as pd\n",
    "import numpy as np\n",
    "from statsmodels.tsa.stattools import adfuller, kpss\n",
    "# Augmented Dickey-Fuller Test\n",
    "def adf_test(series, title=''):\n",
    "    print(f'Augmented Dickey-Fuller Test: {title}')\n",
    "    result = adfuller(series, autolag='AIC')\n",
    "    labels = ['ADF Statistic', 'p-value', '#Lags Used', 'Number of Observations Used']\n",
    "    out = pd.Series(result[:4], index=labels)\n",
    "    for key, value in result[4].items():\n",
    "        out[f'Critical Value ({key})'] = value\n",
    "    print(out)\n",
    "    print('')\n",
    "\n",
    "# KPSS Test\n",
    "def kpss_test(series, title=''):\n",
    "    print(f'KPSS Test: {title}')\n",
    "    result = kpss(series, regression='c', nlags=\"auto\")\n",
    "    labels = ['KPSS Statistic', 'p-value', 'Lags Used']\n",
    "    out = pd.Series(result[:3], index=labels)\n",
    "    for key, value in result[3].items():\n",
    "        out[f'Critical Value ({key})'] = value\n",
    "    print(out)\n",
    "    print('')"
   ]
  },
  {
   "cell_type": "code",
   "execution_count": 24,
   "id": "59765d49",
   "metadata": {},
   "outputs": [
    {
     "name": "stdout",
     "output_type": "stream",
     "text": [
      "Augmented Dickey-Fuller Test: Log Return Close_cac\n",
      "ADF Statistic                  -23.547750\n",
      "p-value                          0.000000\n",
      "#Lags Used                       0.000000\n",
      "Number of Observations Used    532.000000\n",
      "Critical Value (1%)             -3.442702\n",
      "Critical Value (5%)             -2.866988\n",
      "Critical Value (10%)            -2.569672\n",
      "dtype: float64\n",
      "\n",
      "KPSS Test: Log Return Close_sp\n",
      "KPSS Statistic           0.0811\n",
      "p-value                  0.1000\n",
      "Lags Used                6.0000\n",
      "Critical Value (10%)     0.3470\n",
      "Critical Value (5%)      0.4630\n",
      "Critical Value (2.5%)    0.5740\n",
      "Critical Value (1%)      0.7390\n",
      "dtype: float64\n",
      "\n",
      "Augmented Dickey-Fuller Test: Log Return Brent_Euro\n",
      "ADF Statistic                 -1.752595e+01\n",
      "p-value                        4.261366e-30\n",
      "#Lags Used                     1.000000e+00\n",
      "Number of Observations Used    5.310000e+02\n",
      "Critical Value (1%)           -3.442725e+00\n",
      "Critical Value (5%)           -2.866998e+00\n",
      "Critical Value (10%)          -2.569677e+00\n",
      "dtype: float64\n",
      "\n",
      "KPSS Test: Log Return Brent_Euro\n",
      "KPSS Statistic           0.066381\n",
      "p-value                  0.100000\n",
      "Lags Used                3.000000\n",
      "Critical Value (10%)     0.347000\n",
      "Critical Value (5%)      0.463000\n",
      "Critical Value (2.5%)    0.574000\n",
      "Critical Value (1%)      0.739000\n",
      "dtype: float64\n",
      "\n"
     ]
    },
    {
     "name": "stderr",
     "output_type": "stream",
     "text": [
      "C:\\anaconda\\lib\\site-packages\\statsmodels\\tsa\\stattools.py:2022: InterpolationWarning: The test statistic is outside of the range of p-values available in the\n",
      "look-up table. The actual p-value is greater than the p-value returned.\n",
      "\n",
      "  warnings.warn(\n",
      "C:\\anaconda\\lib\\site-packages\\statsmodels\\tsa\\stattools.py:2022: InterpolationWarning: The test statistic is outside of the range of p-values available in the\n",
      "look-up table. The actual p-value is greater than the p-value returned.\n",
      "\n",
      "  warnings.warn(\n"
     ]
    }
   ],
   "source": [
    "# Perform ADF test for Close_nifty log returns\n",
    "adf_test(post_covid_data['Log_Return_Close_cac'], title='Log Return Close_cac')\n",
    "\n",
    "# Perform KPSS test for Close_nifty log returns\n",
    "kpss_test(post_covid_data['Log_Return_Close_cac'], title='Log Return Close_sp')\n",
    "\n",
    "# Perform ADF test for Brent_INR log returns\n",
    "adf_test(post_covid_data['Log_Return_Brent_Euro'], title='Log Return Brent_Euro')\n",
    "\n",
    "# Perform KPSS test for Brent_INR log returns\n",
    "kpss_test(post_covid_data['Log_Return_Brent_Euro'], title='Log Return Brent_Euro')"
   ]
  },
  {
   "cell_type": "code",
   "execution_count": 25,
   "id": "e7c1e226",
   "metadata": {},
   "outputs": [],
   "source": [
    "# Data is Stationary"
   ]
  },
  {
   "cell_type": "code",
   "execution_count": 27,
   "id": "429ad1d7",
   "metadata": {},
   "outputs": [],
   "source": [
    "# Rescale the log returns\n",
    "post_covid_data['Log_Return_Close_cac_scaled'] = post_covid_data['Log_Return_Close_cac'] * 100\n",
    "post_covid_data['Log_Return_Brent_Euro_scaled'] = post_covid_data['Log_Return_Brent_Euro'] * 100"
   ]
  },
  {
   "cell_type": "code",
   "execution_count": 29,
   "id": "ab523a2a",
   "metadata": {},
   "outputs": [
    {
     "name": "stdout",
     "output_type": "stream",
     "text": [
      "                        Constant Mean - GJR-GARCH Model Results                        \n",
      "=======================================================================================\n",
      "Dep. Variable:     Log_Return_Close_cac_scaled   R-squared:                       0.000\n",
      "Mean Model:                      Constant Mean   Adj. R-squared:                  0.000\n",
      "Vol Model:                           GJR-GARCH   Log-Likelihood:               -732.810\n",
      "Distribution:                           Normal   AIC:                           1475.62\n",
      "Method:                     Maximum Likelihood   BIC:                           1497.01\n",
      "                                                 No. Observations:                  533\n",
      "Date:                         Tue, Jun 04 2024   Df Residuals:                      532\n",
      "Time:                                 17:31:38   Df Model:                            1\n",
      "                                 Mean Model                                \n",
      "===========================================================================\n",
      "                 coef    std err          t      P>|t|     95.0% Conf. Int.\n",
      "---------------------------------------------------------------------------\n",
      "mu             0.0544  3.910e-02      1.391      0.164 [-2.225e-02,  0.131]\n",
      "                              Volatility Model                             \n",
      "===========================================================================\n",
      "                 coef    std err          t      P>|t|     95.0% Conf. Int.\n",
      "---------------------------------------------------------------------------\n",
      "omega          0.0419  2.971e-02      1.410      0.159 [-1.634e-02,  0.100]\n",
      "alpha[1]       0.0000  5.129e-02      0.000      1.000    [ -0.101,  0.101]\n",
      "gamma[1]       0.1590  5.855e-02      2.715  6.628e-03  [4.421e-02,  0.274]\n",
      "beta[1]        0.8726  7.245e-02     12.043  2.100e-33    [  0.731,  1.015]\n",
      "===========================================================================\n",
      "\n",
      "Covariance estimator: robust\n",
      "                        Constant Mean - GJR-GARCH Model Results                         \n",
      "========================================================================================\n",
      "Dep. Variable:     Log_Return_Brent_Euro_scaled   R-squared:                       0.000\n",
      "Mean Model:                       Constant Mean   Adj. R-squared:                  0.000\n",
      "Vol Model:                            GJR-GARCH   Log-Likelihood:               -1196.84\n",
      "Distribution:                            Normal   AIC:                           2403.68\n",
      "Method:                      Maximum Likelihood   BIC:                           2425.08\n",
      "                                                  No. Observations:                  533\n",
      "Date:                          Tue, Jun 04 2024   Df Residuals:                      532\n",
      "Time:                                  17:31:38   Df Model:                            1\n",
      "                               Mean Model                               \n",
      "========================================================================\n",
      "                 coef    std err          t      P>|t|  95.0% Conf. Int.\n",
      "------------------------------------------------------------------------\n",
      "mu            -0.0563      0.104     -0.543      0.587 [ -0.260,  0.147]\n",
      "                              Volatility Model                             \n",
      "===========================================================================\n",
      "                 coef    std err          t      P>|t|     95.0% Conf. Int.\n",
      "---------------------------------------------------------------------------\n",
      "omega          0.1285  7.296e-02      1.761  7.820e-02 [-1.450e-02,  0.271]\n",
      "alpha[1]       0.0000  5.545e-02      0.000      1.000    [ -0.109,  0.109]\n",
      "gamma[1]       0.0777  6.366e-02      1.221      0.222 [-4.707e-02,  0.202]\n",
      "beta[1]        0.9279  3.182e-02     29.159 6.360e-187    [  0.866,  0.990]\n",
      "===========================================================================\n",
      "\n",
      "Covariance estimator: robust\n"
     ]
    }
   ],
   "source": [
    "from arch import arch_model\n",
    "# Refit the models with the rescaled data\n",
    "model_close_cac_scaled = arch_model(post_covid_data['Log_Return_Close_cac_scaled'], vol='Garch', p=1, o=1, q=1)\n",
    "results_close_cac_scaled = model_close_cac_scaled.fit(disp='off')\n",
    "print(results_close_cac_scaled.summary())\n",
    "\n",
    "\n",
    "from arch import arch_model\n",
    "model_brent_Euro_scaled = arch_model(post_covid_data['Log_Return_Brent_Euro_scaled'], vol='Garch', p=1, o=1, q=1)\n",
    "results_brent_Euro_scaled = model_brent_Euro_scaled.fit(disp='off')\n",
    "print(results_brent_Euro_scaled.summary())"
   ]
  },
  {
   "cell_type": "code",
   "execution_count": null,
   "id": "ec7d5a5b",
   "metadata": {},
   "outputs": [],
   "source": []
  },
  {
   "cell_type": "code",
   "execution_count": 30,
   "id": "12870bc5",
   "metadata": {},
   "outputs": [],
   "source": [
    "# # Plot the standardized residuals\n",
    "# plt.figure(figsize=(10, 6))\n",
    "# plt.plot(results_close_sp_scaled.resid / results_close_sp_scaled.conditional_volatility)\n",
    "# plt.title('Standardized Residuals - Close sp')\n",
    "# plt.show()\n",
    "\n",
    "# plt.figure(figsize=(10, 6))\n",
    "# plt.plot(results_brent_Crude_scaled.resid / results_brent_Crude_scaled.conditional_volatility)\n",
    "# plt.title('Standardized Residuals - Brent Crude')\n",
    "# plt.show()"
   ]
  },
  {
   "cell_type": "code",
   "execution_count": 31,
   "id": "b412061d",
   "metadata": {},
   "outputs": [],
   "source": [
    "# Assuming `results` is the fitted GJR-GARCH model for Close_nifty\n",
    "standardized_residuals_cac = results_close_cac_scaled.resid / results_close_cac_scaled.conditional_volatility\n",
    "\n",
    "# Assuming `results_brent` is the fitted GJR-GARCH model for Brent_INR\n",
    "standardized_residuals_brent = results_brent_Euro_scaled.resid / results_brent_Euro_scaled.conditional_volatility\n"
   ]
  },
  {
   "cell_type": "code",
   "execution_count": 32,
   "id": "68facd65",
   "metadata": {},
   "outputs": [
    {
     "data": {
      "text/plain": [
       "<AxesSubplot:ylabel='Density'>"
      ]
     },
     "execution_count": 32,
     "metadata": {},
     "output_type": "execute_result"
    },
    {
     "data": {
      "image/png": "[encoded data removed]",
      "text/plain": [
       "<Figure size 432x288 with 1 Axes>"
      ]
     },
     "metadata": {
      "needs_background": "light"
     },
     "output_type": "display_data"
    }
   ],
   "source": [
    "sns.histplot(standardized_residuals_cac, kde=True, stat=\"density\", linewidth=0)"
   ]
  },
  {
   "cell_type": "code",
   "execution_count": 34,
   "id": "c124b541",
   "metadata": {},
   "outputs": [
    {
     "data": {
      "text/plain": [
       "<AxesSubplot:ylabel='Density'>"
      ]
     },
     "execution_count": 34,
     "metadata": {},
     "output_type": "execute_result"
    },
    {
     "data": {
      "image/png": "[encoded data removed]",
      "text/plain": [
       "<Figure size 432x288 with 1 Axes>"
      ]
     },
     "metadata": {
      "needs_background": "light"
     },
     "output_type": "display_data"
    }
   ],
   "source": [
    "sns.histplot(standardized_residuals_brent, kde=True, stat=\"density\", linewidth=0)"
   ]
  },
  {
   "cell_type": "code",
   "execution_count": 35,
   "id": "e0a004c2",
   "metadata": {},
   "outputs": [],
   "source": [
    "# Creating a DataFrame for easy handling\n",
    "standardized_residuals = pd.DataFrame({\n",
    "    'cac': standardized_residuals_cac,\n",
    "    'Brent': standardized_residuals_brent\n",
    "})"
   ]
  },
  {
   "cell_type": "code",
   "execution_count": 36,
   "id": "5f12fe9b",
   "metadata": {},
   "outputs": [
    {
     "name": "stdout",
     "output_type": "stream",
     "text": [
      "Shapiro-Wilk test for cac:\n",
      "Test Statistic: 0.987076410414324\n",
      "p-value: 0.00011585138727958145\n",
      "\n",
      "Shapiro-Wilk test for Brent:\n",
      "Test Statistic: 0.979033750876287\n",
      "p-value: 6.231274495381722e-07\n"
     ]
    }
   ],
   "source": [
    "from scipy.stats import shapiro\n",
    "\n",
    "# Perform Shapiro-Wilk test for sp\n",
    "shapiro_sp = shapiro(standardized_residuals['cac'])\n",
    "print(\"Shapiro-Wilk test for cac:\")\n",
    "print(\"Test Statistic:\", shapiro_sp[0])\n",
    "print(\"p-value:\", shapiro_sp[1])\n",
    "\n",
    "# Perform Shapiro-Wilk test for Brent\n",
    "shapiro_brent = shapiro(standardized_residuals['Brent'])\n",
    "print(\"\\nShapiro-Wilk test for Brent:\")\n",
    "print(\"Test Statistic:\", shapiro_brent[0])\n",
    "print(\"p-value:\", shapiro_brent[1])"
   ]
  },
  {
   "cell_type": "code",
   "execution_count": null,
   "id": "52a61c77",
   "metadata": {},
   "outputs": [],
   "source": []
  },
  {
   "cell_type": "code",
   "execution_count": 38,
   "id": "1f00d3ca",
   "metadata": {},
   "outputs": [],
   "source": [
    "import numpy as np\n",
    "import pandas as pd\n",
    "import matplotlib.pyplot as plt\n",
    "from scipy.stats import gaussian_kde, genpareto\n",
    "from statsmodels.distributions.empirical_distribution import ECDF"
   ]
  },
  {
   "cell_type": "code",
   "execution_count": 39,
   "id": "fecd100f",
   "metadata": {},
   "outputs": [
    {
     "data": {
      "image/png": "[encoded data removed]",
      "text/plain": [
       "<Figure size 864x432 with 1 Axes>"
      ]
     },
     "metadata": {
      "needs_background": "light"
     },
     "output_type": "display_data"
    }
   ],
   "source": [
    "kde_cac = gaussian_kde(standardized_residuals['cac'])\n",
    "kde_brent = gaussian_kde(standardized_residuals['Brent'])\n",
    "\n",
    "# Plot the KDE\n",
    "x_grid_cac = np.linspace(standardized_residuals['cac'].min(), standardized_residuals['cac'].max(), 1000)\n",
    "x_grid_brent = np.linspace(standardized_residuals['Brent'].min(), standardized_residuals['Brent'].max(), 1000)\n",
    "\n",
    "plt.figure(figsize=(12, 6))\n",
    "plt.plot(x_grid_cac, kde_cac(x_grid_cac), label='cac KDE')\n",
    "plt.plot(x_grid_brent, kde_brent(x_grid_brent), label='Brent KDE')\n",
    "plt.title('Kernel Density Estimation')\n",
    "plt.legend()\n",
    "plt.show()"
   ]
  },
  {
   "cell_type": "code",
   "execution_count": 40,
   "id": "2abf7ec1",
   "metadata": {},
   "outputs": [],
   "source": [
    "upper_threshold_cac = np.percentile(standardized_residuals['cac'], 90)\n",
    "lower_threshold_cac = np.percentile(standardized_residuals['cac'], 10)\n",
    "upper_threshold_brent = np.percentile(standardized_residuals['Brent'], 90)\n",
    "lower_threshold_brent = np.percentile(standardized_residuals['Brent'], 10)"
   ]
  },
  {
   "cell_type": "code",
   "execution_count": 41,
   "id": "3c9e6b17",
   "metadata": {},
   "outputs": [],
   "source": [
    "cac_upper_tail = standardized_residuals['cac'][standardized_residuals['cac'] > upper_threshold_cac] - upper_threshold_cac\n",
    "cac_lower_tail = -standardized_residuals['cac'][standardized_residuals['cac'] < lower_threshold_cac] + lower_threshold_cac\n",
    "brent_upper_tail = standardized_residuals['Brent'][standardized_residuals['Brent'] > upper_threshold_brent] - upper_threshold_brent\n",
    "brent_lower_tail = -standardized_residuals['Brent'][standardized_residuals['Brent'] < lower_threshold_brent] + lower_threshold_brent"
   ]
  },
  {
   "cell_type": "code",
   "execution_count": 42,
   "id": "2c2a8300",
   "metadata": {},
   "outputs": [],
   "source": [
    "# Fit GPD to the tails\n",
    "params_cac_upper = genpareto.fit(cac_upper_tail)\n",
    "params_cac_lower = genpareto.fit(cac_lower_tail)\n",
    "params_brent_upper = genpareto.fit(brent_upper_tail)\n",
    "params_brent_lower = genpareto.fit(brent_lower_tail)"
   ]
  },
  {
   "cell_type": "code",
   "execution_count": 43,
   "id": "7851fba2",
   "metadata": {},
   "outputs": [],
   "source": [
    "from statsmodels.distributions.empirical_distribution import ECDF\n",
    "\n",
    "# Compute empirical CDF\n",
    "ecdf_cac = ECDF(standardized_residuals['cac'])\n",
    "ecdf_brent = ECDF(standardized_residuals['Brent'])"
   ]
  },
  {
   "cell_type": "code",
   "execution_count": 44,
   "id": "4bbbb8e9",
   "metadata": {},
   "outputs": [],
   "source": [
    "# Function to compute combined CDF\n",
    "def combined_cdf(x, ecdf, upper_threshold, lower_threshold, params_upper, params_lower):\n",
    "    c_u, loc_u, scale_u = params_upper\n",
    "    c_l, loc_l, scale_l = params_lower\n",
    "    if x <= lower_threshold:\n",
    "        return ecdf(lower_threshold) * genpareto.cdf(-x + lower_threshold, c_l, loc_l, scale_l)\n",
    "    elif x <= upper_threshold:\n",
    "        return ecdf(x)\n",
    "    else:\n",
    "        return ecdf(upper_threshold) + (1 - ecdf(upper_threshold)) * genpareto.cdf(x - upper_threshold, c_u, loc_u, scale_u)\n"
   ]
  },
  {
   "cell_type": "code",
   "execution_count": 45,
   "id": "9ec53da5",
   "metadata": {},
   "outputs": [],
   "source": [
    "cdf_cac = [combined_cdf(x, ecdf_cac, upper_threshold_cac, lower_threshold_cac, params_cac_upper, params_cac_lower) for x in standardized_residuals['cac']]\n",
    "cdf_brent = [combined_cdf(x, ecdf_brent, upper_threshold_brent, lower_threshold_brent, params_brent_upper, params_brent_lower) for x in standardized_residuals['Brent']]"
   ]
  },
  {
   "cell_type": "code",
   "execution_count": 46,
   "id": "74b13ea0",
   "metadata": {},
   "outputs": [
    {
     "data": {
      "image/png": "[encoded data removed]",
      "text/plain": [
       "<Figure size 864x432 with 1 Axes>"
      ]
     },
     "metadata": {
      "needs_background": "dark"
     },
     "output_type": "display_data"
    }
   ],
   "source": [
    "plt.figure(figsize=(12, 6))\n",
    "plt.plot(standardized_residuals['cac'], cdf_cac, label='cac CDF', color='blue')\n",
    "plt.plot(standardized_residuals['Brent'], cdf_brent, label='Brent CDF', color='red')\n",
    "plt.title('Combined CDF with EVT-GPD Tails', color='white')\n",
    "plt.legend()\n",
    "plt.xlabel('Standardized Residuals', color='white')\n",
    "plt.ylabel('CDF', color='white')\n",
    "plt.xticks(color='white')\n",
    "plt.yticks(color='white')\n",
    "plt.gca().set_facecolor('white')  # Set background color to white\n",
    "plt.grid(color='gray', linestyle='--', linewidth=0.5)  # Add grid lines\n",
    "plt.show()"
   ]
  },
  {
   "cell_type": "code",
   "execution_count": 47,
   "id": "fc2ddcd3",
   "metadata": {},
   "outputs": [],
   "source": [
    "# Convert the CDF values to a uniform distribution for copula modeling\n",
    "uniform_cac = np.array(cdf_cac)\n",
    "uniform_brent = np.array(cdf_brent)"
   ]
  },
  {
   "cell_type": "code",
   "execution_count": 48,
   "id": "e206e445",
   "metadata": {},
   "outputs": [],
   "source": [
    "# Create a DataFrame from the uniform distributions\n",
    "uniform_data = pd.DataFrame({\n",
    "    'Uniform_cac': uniform_cac,\n",
    "    'Uniform_Brent': uniform_brent\n",
    "})"
   ]
  },
  {
   "cell_type": "code",
   "execution_count": 49,
   "id": "c3a5028f",
   "metadata": {},
   "outputs": [
    {
     "name": "stdout",
     "output_type": "stream",
     "text": [
      "Uniform distributions saved to C:\\Users\\KASHISH NIGAM\\Desktop\\Last Sem Project\\Final Datasets\\France\\uniform_distributions-Post_Covid_France.xlsx\n"
     ]
    }
   ],
   "source": [
    "# Define the output file path\n",
    "output_file = r'C:\\Users\\KASHISH NIGAM\\Desktop\\Last Sem Project\\Final Datasets\\France\\uniform_distributions-Post_Covid_France.xlsx'\n",
    "\n",
    "# Save the DataFrame to an Excel file\n",
    "uniform_data.to_excel(output_file, index=False)\n",
    "\n",
    "print(f\"Uniform distributions saved to {output_file}\")"
   ]
  },
  {
   "cell_type": "code",
   "execution_count": null,
   "id": "9624b720",
   "metadata": {},
   "outputs": [],
   "source": []
  }
 ],
 "metadata": {
  "kernelspec": {
   "display_name": "Python 3 (ipykernel)",
   "language": "python",
   "name": "python3"
  },
  "language_info": {
   "codemirror_mode": {
    "name": "ipython",
    "version": 3
   },
   "file_extension": ".py",
   "mimetype": "text/x-python",
   "name": "python",
   "nbconvert_exporter": "python",
   "pygments_lexer": "ipython3",
   "version": "3.9.12"
  }
 },
 "nbformat": 4,
 "nbformat_minor": 5
}
